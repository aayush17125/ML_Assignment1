{
 "cells": [
  {
   "cell_type": "code",
   "execution_count": 20,
   "metadata": {
    "ExecuteTime": {
     "end_time": "2019-09-05T13:24:11.016797Z",
     "start_time": "2019-09-05T13:24:11.005496Z"
    }
   },
   "outputs": [],
   "source": [
    "import numpy as np\n",
    "import matplotlib.pyplot as plt\n",
    "from mlxtend.data import loadlocal_mnist\n",
    "from sklearn.linear_model import LogisticRegression\n",
    "from sklearn.multiclass import OneVsRestClassifier\n",
    "from sklearn import preprocessing\n",
    "from sklearn.metrics import roc_curve,auc\n",
    "from sklearn.preprocessing import label_binarize"
   ]
  },
  {
   "cell_type": "code",
   "execution_count": 3,
   "metadata": {
    "ExecuteTime": {
     "end_time": "2019-09-05T13:06:41.858951Z",
     "start_time": "2019-09-05T13:06:41.763975Z"
    }
   },
   "outputs": [],
   "source": [
    "x, y = loadlocal_mnist(\"train-images-idx3-ubyte\", \"train-labels-idx1-ubyte\")\n",
    "x_test, y_test = loadlocal_mnist(\"t10k-images-idx3-ubyte\",\n",
    "                                 \"t10k-labels-idx1-ubyte\")"
   ]
  },
  {
   "cell_type": "code",
   "execution_count": 4,
   "metadata": {
    "ExecuteTime": {
     "end_time": "2019-09-05T13:06:43.405552Z",
     "start_time": "2019-09-05T13:06:41.863456Z"
    }
   },
   "outputs": [],
   "source": [
    "x = preprocessing.normalize(x)\n",
    "x_test = preprocessing.normalize(x_test)"
   ]
  },
  {
   "cell_type": "code",
   "execution_count": 5,
   "metadata": {
    "ExecuteTime": {
     "end_time": "2019-09-05T13:08:17.696702Z",
     "start_time": "2019-09-05T13:06:43.408462Z"
    },
    "scrolled": true
   },
   "outputs": [
    {
     "name": "stdout",
     "output_type": "stream",
     "text": [
      "99.23666666666666 for 0 train l1\n",
      "99.2 for 0 test l1\n",
      "99.17833333333334 for 0 train l2\n",
      "99.16 for 0 test l2\n",
      "99.19833333333334 for 1 train l1\n",
      "99.4 for 1 test l1\n",
      "99.14333333333335 for 1 train l2\n",
      "99.33999999999999 for 1 test l2\n",
      "98.08833333333334 for 2 train l1\n",
      "98.06 for 2 test l1\n",
      "97.91333333333333 for 2 train l2\n",
      "98.00999999999999 for 2 test l2\n",
      "97.71666666666667 for 3 train l1\n",
      "97.98 for 3 test l1\n",
      "97.53166666666667 for 3 train l2\n",
      "97.89999999999999 for 3 test l2\n",
      "98.37166666666667 for 4 train l1\n",
      "98.24000000000001 for 4 test l1\n",
      "98.24833333333333 for 4 train l2\n",
      "98.2 for 4 test l2\n",
      "97.59333333333333 for 5 train l1\n",
      "97.75 for 5 test l1\n",
      "97.02666666666667 for 5 train l2\n",
      "97.31 for 5 test l2\n",
      "98.82166666666666 for 6 train l1\n",
      "98.71 for 6 test l1\n",
      "98.73166666666665 for 6 train l2\n",
      "98.7 for 6 test l2\n",
      "98.53166666666667 for 7 train l1\n",
      "98.52 for 7 test l1\n",
      "98.41833333333334 for 7 train l2\n",
      "98.5 for 7 test l2\n",
      "96.33 for 8 train l1\n",
      "96.35000000000001 for 8 test l1\n",
      "96.22166666666668 for 8 train l2\n",
      "96.41999999999999 for 8 test l2\n",
      "96.67666666666666 for 9 train l1\n",
      "96.74000000000001 for 9 test l1\n",
      "96.60833333333333 for 9 train l2\n",
      "96.63000000000001 for 9 test l2\n"
     ]
    }
   ],
   "source": [
    "for i in range(10):\n",
    "    cp_y = np.copy(y)\n",
    "    cp_ytest = np.copy(y_test)\n",
    "    cp_y = np.where(cp_y == i, 1, 0)\n",
    "    cp_ytest = np.where(cp_ytest == i, 1, 0)\n",
    "    logreg = LogisticRegression(penalty=\"l1\", solver=\"liblinear\")\n",
    "    logreg.fit(x, cp_y)\n",
    "    print(100*logreg.score(x, cp_y), 'for', i, 'train l1')\n",
    "    print(100*logreg.score(x_test, cp_ytest), 'for', i, 'test l1')\n",
    "    logreg = LogisticRegression(penalty=\"l2\", solver=\"liblinear\")\n",
    "    logreg.fit(x, cp_y)\n",
    "    print(100*logreg.score(x, cp_y), 'for', i, 'train l2')\n",
    "    print(100*logreg.score(x_test, cp_ytest), 'for', i, 'test l2','\\n \\n')"
   ]
  },
  {
   "cell_type": "code",
   "execution_count": 6,
   "metadata": {
    "ExecuteTime": {
     "end_time": "2019-09-05T13:09:33.229727Z",
     "start_time": "2019-09-05T13:08:17.698833Z"
    },
    "scrolled": true
   },
   "outputs": [],
   "source": [
    "logreg = LogisticRegression(penalty=\"l1\",solver=\"liblinear\",multi_class=\"ovr\")\n",
    "a = OneVsRestClassifier(logreg).fit(x, y)"
   ]
  },
  {
   "cell_type": "code",
   "execution_count": 7,
   "metadata": {
    "ExecuteTime": {
     "end_time": "2019-09-05T13:09:34.110604Z",
     "start_time": "2019-09-05T13:09:33.231135Z"
    }
   },
   "outputs": [
    {
     "name": "stdout",
     "output_type": "stream",
     "text": [
      "92.06 Accuracy for l1 train\n",
      "92.12 Accuracy for l1 test\n"
     ]
    }
   ],
   "source": [
    "print(a.score(x,y)*100,\"Accuracy for l1 train\")\n",
    "print(a.score(x_test,y_test)*100,\"Accuracy for l1 test\")"
   ]
  },
  {
   "cell_type": "code",
   "execution_count": 8,
   "metadata": {
    "ExecuteTime": {
     "end_time": "2019-09-05T13:09:34.123881Z",
     "start_time": "2019-09-05T13:09:34.116330Z"
    }
   },
   "outputs": [],
   "source": [
    "logreg = LogisticRegression(penalty=\"l2\",solver=\"liblinear\",multi_class=\"ovr\")"
   ]
  },
  {
   "cell_type": "code",
   "execution_count": 9,
   "metadata": {
    "ExecuteTime": {
     "end_time": "2019-09-05T13:09:50.646568Z",
     "start_time": "2019-09-05T13:09:34.128419Z"
    }
   },
   "outputs": [],
   "source": [
    "a = OneVsRestClassifier(logreg).fit(x, y)"
   ]
  },
  {
   "cell_type": "code",
   "execution_count": 10,
   "metadata": {
    "ExecuteTime": {
     "end_time": "2019-09-05T13:09:51.505962Z",
     "start_time": "2019-09-05T13:09:50.648357Z"
    }
   },
   "outputs": [
    {
     "name": "stdout",
     "output_type": "stream",
     "text": [
      "91.31833333333333 Accuracy for l2 train\n",
      "91.56 Accuracy for l2 test\n"
     ]
    }
   ],
   "source": [
    "print(a.score(x,y)*100,\"Accuracy for l2 train\")\n",
    "print(a.score(x_test,y_test)*100,\"Accuracy for l2 test\")"
   ]
  },
  {
   "cell_type": "code",
   "execution_count": 29,
   "metadata": {
    "ExecuteTime": {
     "end_time": "2019-09-05T13:37:20.074386Z",
     "start_time": "2019-09-05T13:37:01.308814Z"
    }
   },
   "outputs": [],
   "source": [
    "y = label_binarize(y,classes=range(10))\n",
    "y_test = label_binarize(y_test,classes=range(10))\n",
    "out = OneVsRestClassifier(logreg).fit(x,y).decision_function(x_test)"
   ]
  },
  {
   "cell_type": "code",
   "execution_count": 30,
   "metadata": {
    "ExecuteTime": {
     "end_time": "2019-09-05T13:37:20.567870Z",
     "start_time": "2019-09-05T13:37:20.283608Z"
    }
   },
   "outputs": [
    {
     "data": {
      "image/png": "[encoded data removed]",
      "text/plain": [
       "<Figure size 432x288 with 1 Axes>"
      ]
     },
     "metadata": {
      "needs_background": "light"
     },
     "output_type": "display_data"
    }
   ],
   "source": [
    "fpr= dict()\n",
    "tpr = dict()\n",
    "roc_auc = dict()\n",
    "for i in range(10):\n",
    "    fpr[i],tpr[i],t = roc_curve(y_test[:,i],out[:,i])\n",
    "    roc_auc[i] = auc(fpr[i],tpr[i])\n",
    "col = [\"red\",\"green\",\"blue\",\"yellow\",\"pink\",\"black\",\"aqua\",\"cyan\",\"purple\",\"lightgreen\"]\n",
    "for i,c in zip(range(10),col):\n",
    "    plt.plot(fpr[i],tpr[i],color=c,lw=2,label=(\"ROC curve of class \"+str(i)))\n",
    "plt.plot([0,1],[0,1],'k--',lw=2)\n",
    "plt.xlim([0.0,1.0])\n",
    "plt.ylim([0.0,1.1])\n",
    "plt.xlabel('False positive rate')\n",
    "plt.ylabel('True positive rate')\n",
    "plt.title('For L2 regularization')\n",
    "plt.legend(loc=\"lower right\")\n",
    "plt.show()"
   ]
  },
  {
   "cell_type": "code",
   "execution_count": null,
   "metadata": {},
   "outputs": [],
   "source": []
  }
 ],
 "metadata": {
  "kernelspec": {
   "display_name": "Python 3",
   "language": "python",
   "name": "python3"
  },
  "language_info": {
   "codemirror_mode": {
    "name": "ipython",
    "version": 3
   },
   "file_extension": ".py",
   "mimetype": "text/x-python",
   "name": "python",
   "nbconvert_exporter": "python",
   "pygments_lexer": "ipython3",
   "version": "3.7.3"
  },
  "varInspector": {
   "cols": {
    "lenName": 16,
    "lenType": 16,
    "lenVar": 40
   },
   "kernels_config": {
    "python": {
     "delete_cmd_postfix": "",
     "delete_cmd_prefix": "del ",
     "library": "var_list.py",
     "varRefreshCmd": "print(var_dic_list())"
    },
    "r": {
     "delete_cmd_postfix": ") ",
     "delete_cmd_prefix": "rm(",
     "library": "var_list.r",
     "varRefreshCmd": "cat(var_dic_list()) "
    }
   },
   "oldHeight": 122,
   "position": {
    "height": "40px",
    "left": "1582px",
    "right": "20px",
    "top": "120px",
    "width": "250px"
   },
   "types_to_exclude": [
    "module",
    "function",
    "builtin_function_or_method",
    "instance",
    "_Feature"
   ],
   "varInspector_section_display": "none",
   "window_display": true
  }
 },
 "nbformat": 4,
 "nbformat_minor": 2
}
