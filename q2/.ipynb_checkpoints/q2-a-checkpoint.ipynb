{
 "cells": [
  {
   "cell_type": "code",
   "execution_count": 17,
   "metadata": {
    "ExecuteTime": {
     "end_time": "2019-09-04T10:30:31.271913Z",
     "start_time": "2019-09-04T10:30:31.257470Z"
    }
   },
   "outputs": [],
   "source": [
    "import numpy as np\n",
    "import pandas as pd\n",
    "import matplotlib.pyplot as plt\n",
    "import math\n",
    "import random\n",
    "from sklearn.linear_model import Ridge, Lasso\n",
    "from sklearn.model_selection import GridSearchCV\n",
    "from sklearn.model_selection import cross_val_score "
   ]
  },
  {
   "cell_type": "code",
   "execution_count": 18,
   "metadata": {
    "ExecuteTime": {
     "end_time": "2019-09-04T10:30:31.532272Z",
     "start_time": "2019-09-04T10:30:31.281939Z"
    }
   },
   "outputs": [],
   "source": [
    "data = pd.read_csv(\"train.csv\",\n",
    "                   names=[\n",
    "                       \"age\", \"workclass\", \"fnlwgt\", \"education\",\n",
    "                       \"education-num\", \"marital-status\", \"occupation\",\n",
    "                       \"relationship\", \"race\", \"sex\", \"capital-gain\",\n",
    "                       \"capital-loss\", \"hours-per-week\", \"native-country\",\n",
    "                       \"output\"\n",
    "                   ])\n",
    "li = [\n",
    "    \"workclass\", \"education\", \"marital-status\", \"occupation\", \"relationship\",\n",
    "    \"race\", \"sex\", \"native-country\", \"output\"\n",
    "]\n",
    "for i in li:\n",
    "    data[i] = data[i].astype('category')\n",
    "    data[i] = data[i].cat.codes\n",
    "y = data.iloc[:, 14]\n",
    "x = data.iloc[:, 0:14]\n",
    "y = y.to_numpy()\n",
    "x_norm = (x - x.mean()) / (x.max() - x.min())\n",
    "x1 = x_norm.to_numpy()\n",
    "x = np.insert(x1, 0, 1, axis=1)\n",
    "data = pd.read_csv(\"test.csv\",\n",
    "                   names=[\n",
    "                       \"age\", \"workclass\", \"fnlwgt\", \"education\",\n",
    "                       \"education-num\", \"marital-status\", \"occupation\",\n",
    "                       \"relationship\", \"race\", \"sex\", \"capital-gain\",\n",
    "                       \"capital-loss\", \"hours-per-week\", \"native-country\",\n",
    "                       \"output\"\n",
    "                   ])\n",
    "for i in li:\n",
    "    data[i] = data[i].astype('category')\n",
    "    data[i] = data[i].cat.codes\n",
    "y_test = data.iloc[:, 14]\n",
    "x_test = data.iloc[:, 0:14]\n",
    "y_test = y_test.to_numpy()\n",
    "x_norm = (x_test - x_test.mean()) / (x_test.max() - x_test.min())\n",
    "x1 = x_norm.to_numpy()\n",
    "x_test = np.insert(x1, 0, 1, axis=1)"
   ]
  },
  {
   "cell_type": "code",
   "execution_count": 19,
   "metadata": {
    "ExecuteTime": {
     "end_time": "2019-09-04T10:30:31.544188Z",
     "start_time": "2019-09-04T10:30:31.538020Z"
    }
   },
   "outputs": [],
   "source": [
    "def acc_sig(z):\n",
    "    return 1 / (1 + np.exp(0.5 - z))"
   ]
  },
  {
   "cell_type": "code",
   "execution_count": 20,
   "metadata": {
    "ExecuteTime": {
     "end_time": "2019-09-04T10:30:31.633042Z",
     "start_time": "2019-09-04T10:30:31.548539Z"
    }
   },
   "outputs": [],
   "source": [
    "def sigmoid(z):\n",
    "    return 1 / (1 + np.exp(0 - z))"
   ]
  },
  {
   "cell_type": "code",
   "execution_count": 21,
   "metadata": {
    "ExecuteTime": {
     "end_time": "2019-09-04T10:30:31.735242Z",
     "start_time": "2019-09-04T10:30:31.639374Z"
    }
   },
   "outputs": [],
   "source": [
    "def accuracy(x, y, theta):\n",
    "    ans = x @ theta.T\n",
    "#     num = 0\n",
    "#     for i in range(y.shape[0]):\n",
    "#         if (ans[i]>=0.5):\n",
    "#             ans[i][0]=1\n",
    "#         else:\n",
    "#             ans[i][0]=0\n",
    "#         if (y[i]==ans[i][0]):\n",
    "#             num+=1\n",
    "#     return (num*100)/y.shape[0]\n",
    "    ans = acc_sig(ans)\n",
    "    ans = np.round(ans)\n",
    "    y = np.reshape(y, (-1, 1))\n",
    "    ans = ans-y\n",
    "    num = np.sum(np.abs(ans))\n",
    "    return ((y.shape[0]-num)*100)/y.shape[0]"
   ]
  },
  {
   "cell_type": "code",
   "execution_count": 22,
   "metadata": {
    "ExecuteTime": {
     "end_time": "2019-09-04T10:30:31.822874Z",
     "start_time": "2019-09-04T10:30:31.743228Z"
    }
   },
   "outputs": [],
   "source": [
    "def regression(x, y, alpha, x_test, y_test,type=\"normal\",L=0):\n",
    "    epoch = 10000\n",
    "    theta = np.ones((1, 15))\n",
    "    y = np.reshape(y, (-1, 1))\n",
    "    if (type==\"normal\"):\n",
    "        for k in range(epoch):\n",
    "            z = x @ theta.T\n",
    "            h = sigmoid(z)\n",
    "            t = x.T @ (h - y)\n",
    "            grad = (t) / y.shape[0]\n",
    "            theta -= alpha * grad.T\n",
    "    else:\n",
    "        rms_arr = [0] * epoch\n",
    "        rms_validation = [0] * epoch\n",
    "        if (type==\"l1\"):\n",
    "            for k in range(epoch):\n",
    "                z = x @ theta.T\n",
    "                h = sigmoid(z)\n",
    "                t = x.T @ (h - y)\n",
    "                grad = (t) / y.shape[0]\n",
    "                grad += 2*L*np.sum(theta/np.abs(theta))\n",
    "                theta -= alpha * grad.T\n",
    "                rms_arr[k] = accuracy(x, y, theta)\n",
    "                rms_validation[k] = accuracy(x_test, y_test, theta)\n",
    "        elif (type==\"l2\"):\n",
    "            for k in range(epoch):\n",
    "                z = x @ theta.T\n",
    "                h = sigmoid(z)\n",
    "                t = x.T @ (h - y)\n",
    "                grad = (t) / y.shape[0]\n",
    "                grad+= L*np.sum(theta)\n",
    "                theta -= alpha * grad.T\n",
    "                rms_arr[k] = accuracy(x, y, theta)\n",
    "                rms_validation[k] = accuracy(x_test, y_test, theta)\n",
    "        plt.plot(rms_arr)\n",
    "        plt.title('Accuracy vs epoch for Training set',type)\n",
    "        plt.ylabel('Accuracy')\n",
    "        plt.xlabel('epoch')\n",
    "        plt.show()\n",
    "        plt.plot(rms_validation)\n",
    "        plt.title('Accuracy vs epoch for Testing set',type)\n",
    "        plt.ylabel('Accuracy')\n",
    "        plt.xlabel('epoch')\n",
    "        plt.show()\n",
    "    return theta"
   ]
  },
  {
   "cell_type": "code",
   "execution_count": 23,
   "metadata": {
    "ExecuteTime": {
     "end_time": "2019-09-04T10:30:43.988367Z",
     "start_time": "2019-09-04T10:30:31.825851Z"
    }
   },
   "outputs": [
    {
     "name": "stdout",
     "output_type": "stream",
     "text": [
      "[[-1.56196494e+00  2.81176033e+00 -6.68035542e-01  8.25161601e-01\n",
      "   2.39151509e-01  5.11575648e+00 -1.27959669e+00 -9.02597930e-04\n",
      "  -6.02033597e-01  4.37880180e-01  9.13318528e-01  4.79186184e+00\n",
      "   2.37076451e+00  2.78771071e+00  8.19426726e-02]]\n"
     ]
    }
   ],
   "source": [
    "learning_rate = 0.15\n",
    "theta = regression(x, y, learning_rate, x_test, y_test)\n",
    "print(theta)"
   ]
  },
  {
   "cell_type": "code",
   "execution_count": 24,
   "metadata": {
    "ExecuteTime": {
     "end_time": "2019-09-04T10:30:43.999804Z",
     "start_time": "2019-09-04T10:30:43.991858Z"
    }
   },
   "outputs": [
    {
     "name": "stdout",
     "output_type": "stream",
     "text": [
      "80.1261620185923\n"
     ]
    }
   ],
   "source": [
    "print(accuracy(x_test,y_test,theta))"
   ]
  },
  {
   "cell_type": "code",
   "execution_count": null,
   "metadata": {},
   "outputs": [],
   "source": [
    "alphas = np.logspace(-4,1,1000)\n",
    "model = Lasso()\n",
    "grid = GridSearchCV(estimator=model,param_grid=dict(alpha=alphas),cv=5)\n",
    "grid.fit(x,y)\n",
    "L = grid.best_estimator_.alpha\n",
    "print(learning_rate ,L)\n",
    "theta = regression(x,y,learning_rate,x_test,y_test,'l1',L)\n",
    "print('Parameter vector Regression =>')\n",
    "print(theta.T)"
   ]
  }
 ],
 "metadata": {
  "kernelspec": {
   "display_name": "Python 3",
   "language": "python",
   "name": "python3"
  },
  "language_info": {
   "codemirror_mode": {
    "name": "ipython",
    "version": 3
   },
   "file_extension": ".py",
   "mimetype": "text/x-python",
   "name": "python",
   "nbconvert_exporter": "python",
   "pygments_lexer": "ipython3",
   "version": "3.7.3"
  },
  "varInspector": {
   "cols": {
    "lenName": 16,
    "lenType": 16,
    "lenVar": 40
   },
   "kernels_config": {
    "python": {
     "delete_cmd_postfix": "",
     "delete_cmd_prefix": "del ",
     "library": "var_list.py",
     "varRefreshCmd": "print(var_dic_list())"
    },
    "r": {
     "delete_cmd_postfix": ") ",
     "delete_cmd_prefix": "rm(",
     "library": "var_list.r",
     "varRefreshCmd": "cat(var_dic_list()) "
    }
   },
   "types_to_exclude": [
    "module",
    "function",
    "builtin_function_or_method",
    "instance",
    "_Feature"
   ],
   "window_display": false
  }
 },
 "nbformat": 4,
 "nbformat_minor": 2
}
