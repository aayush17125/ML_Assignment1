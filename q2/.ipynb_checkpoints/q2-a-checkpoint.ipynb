{
 "cells": [
  {
   "cell_type": "code",
   "execution_count": 1,
   "metadata": {
    "ExecuteTime": {
     "end_time": "2019-09-04T21:42:36.106912Z",
     "start_time": "2019-09-04T21:42:35.392757Z"
    }
   },
   "outputs": [],
   "source": [
    "import numpy as np\n",
    "import pandas as pd\n",
    "import matplotlib.pyplot as plt\n",
    "import math\n",
    "import random\n",
    "from sklearn.linear_model import Ridge, Lasso\n",
    "from sklearn.model_selection import GridSearchCV\n",
    "from sklearn.model_selection import cross_val_score"
   ]
  },
  {
   "cell_type": "code",
   "execution_count": 2,
   "metadata": {
    "ExecuteTime": {
     "end_time": "2019-09-04T21:42:36.281733Z",
     "start_time": "2019-09-04T21:42:36.108702Z"
    }
   },
   "outputs": [],
   "source": [
    "data = pd.read_csv(\"train.csv\",\n",
    "                   names=[\n",
    "                       \"age\", \"workclass\", \"fnlwgt\", \"education\",\n",
    "                       \"education-num\", \"marital-status\", \"occupation\",\n",
    "                       \"relationship\", \"race\", \"sex\", \"capital-gain\",\n",
    "                       \"capital-loss\", \"hours-per-week\", \"native-country\",\n",
    "                       \"output\"\n",
    "                   ])\n",
    "li = [\n",
    "    \"age\", \"workclass\", \"fnlwgt\", \"education\", \"education-num\",\n",
    "    \"marital-status\", \"occupation\", \"relationship\", \"race\", \"sex\",\n",
    "    \"capital-gain\", \"capital-loss\", \"hours-per-week\", \"native-country\",\n",
    "    \"output\"\n",
    "]\n",
    "li1 = [\n",
    "    \"age\", \"workclass\", \"fnlwgt\", \"education\", \"education-num\",\n",
    "    \"marital-status\", \"occupation\", \"relationship\", \"race\", \"sex\",\n",
    "    \"capital-gain\", \"capital-loss\", \"hours-per-week\", \"native-country\"\n",
    "]\n",
    "for i in li:\n",
    "    data[i] = data[i].astype('category')\n",
    "    data[i] = data[i].cat.codes\n",
    "y = data.iloc[:, 14]\n",
    "x = data.iloc[:, 0:14]\n",
    "y = y.to_numpy()\n",
    "for h in li1:\n",
    "    x[h] = (x[h] - x[h].mean()) / (x[h].std())\n",
    "x1 = x.to_numpy()\n",
    "x = np.insert(x1, 0, 1, axis=1)\n",
    "data = pd.read_csv(\"test.csv\",\n",
    "                   names=[\n",
    "                       \"age\", \"workclass\", \"fnlwgt\", \"education\",\n",
    "                       \"education-num\", \"marital-status\", \"occupation\",\n",
    "                       \"relationship\", \"race\", \"sex\", \"capital-gain\",\n",
    "                       \"capital-loss\", \"hours-per-week\", \"native-country\",\n",
    "                       \"output\"\n",
    "                   ])\n",
    "for i in li:\n",
    "    data[i] = data[i].astype('category')\n",
    "    data[i] = data[i].cat.codes\n",
    "y_test = data.iloc[:, 14]\n",
    "x_test = data.iloc[:, 0:14]\n",
    "y_test = y_test.to_numpy()\n",
    "for h in li1:\n",
    "    x_test[h] = (x_test[h] - x_test[h].mean()) / (x_test[h].std())\n",
    "x1 = x_test.to_numpy()\n",
    "x_test = np.insert(x1, 0, 1, axis=1)"
   ]
  },
  {
   "cell_type": "code",
   "execution_count": 3,
   "metadata": {
    "ExecuteTime": {
     "end_time": "2019-09-04T21:42:36.287848Z",
     "start_time": "2019-09-04T21:42:36.283232Z"
    }
   },
   "outputs": [],
   "source": [
    "def acc_sig(z):\n",
    "    return 1 / (1 + np.exp(0.5 - z))"
   ]
  },
  {
   "cell_type": "code",
   "execution_count": 4,
   "metadata": {
    "ExecuteTime": {
     "end_time": "2019-09-04T21:42:36.374136Z",
     "start_time": "2019-09-04T21:42:36.289147Z"
    }
   },
   "outputs": [],
   "source": [
    "def sigmoid(z):\n",
    "    return 1 / (1 + np.exp(-z))"
   ]
  },
  {
   "cell_type": "code",
   "execution_count": 13,
   "metadata": {
    "ExecuteTime": {
     "end_time": "2019-09-04T21:44:49.687797Z",
     "start_time": "2019-09-04T21:44:49.658390Z"
    }
   },
   "outputs": [],
   "source": [
    "def loss(x, y, type=\"normal\", L=0, theta=None):\n",
    "    h = x @ theta.T\n",
    "    m = x.shape[0]\n",
    "    h = sigmoid(h)\n",
    "    p = h\n",
    "    log_loss = -((y * np.log(p) + (1 - y) * np.log(1 - p))) \n",
    "    if (type == 'normal'):\n",
    "        return (-y * np.log(h) - (1 - y) * np.log(1 - h)).mean()\n",
    "    elif type == \"l1\":\n",
    "#         return ((log_loss + L * (np.abs(theta))).mean())/ (m)\n",
    "        cost = np.transpose(-y)@np.log(h) - np.transpose(1-y)@np.log(1-h) + (L)*np.abs(theta)\n",
    "        cost = (1/m)*cost\n",
    "        return cost.mean()\n",
    "\n",
    "    elif type == 'l2':\n",
    "#         return ((log_loss + (L * np.sum(np.power(theta, 2)))).mean())/ (2 * m)\n",
    "        cost = np.transpose(-y)@np.log(h) - np.transpose(1-y)@np.log(1-h) + (L/2)*np.transpose(theta[1:])@theta[1:]\n",
    "        cost = (1/m)*cost\n",
    "        return cost.mean()"
   ]
  },
  {
   "cell_type": "code",
   "execution_count": 6,
   "metadata": {
    "ExecuteTime": {
     "end_time": "2019-09-04T21:42:36.596764Z",
     "start_time": "2019-09-04T21:42:36.487220Z"
    }
   },
   "outputs": [],
   "source": [
    "def accuracy(x, y, theta):\n",
    "    ans = x @ theta.T\n",
    "    ans = sigmoid(ans)\n",
    "    ans = np.round(ans)\n",
    "    y = np.reshape(y, (-1, 1))\n",
    "    ans = ans - y\n",
    "    num = np.sum(np.abs(ans))\n",
    "    return ((y.shape[0] - num) * 100) / y.shape[0]"
   ]
  },
  {
   "cell_type": "code",
   "execution_count": 7,
   "metadata": {
    "ExecuteTime": {
     "end_time": "2019-09-04T21:42:36.716398Z",
     "start_time": "2019-09-04T21:42:36.600417Z"
    }
   },
   "outputs": [],
   "source": [
    "def regression(x, y, alpha, x_test, y_test, type=\"normal\", L=0):\n",
    "    epoch = 10000\n",
    "    theta = np.ones((1, 15))\n",
    "    y = np.reshape(y, (-1, 1))\n",
    "    if (type == \"normal\"):\n",
    "        for k in range(epoch):\n",
    "            z = x @ theta.T\n",
    "            h = sigmoid(z)\n",
    "            t = x.T @ (h - y)\n",
    "            grad = (t) / y.shape[0]\n",
    "            theta -= alpha * grad.T\n",
    "    else:\n",
    "        loss_arr = [0] * epoch\n",
    "        loss_test = [0] * epoch\n",
    "        rms_arr = [0] * epoch\n",
    "        rms_test = [0] * epoch\n",
    "        if (type == \"l1\"):\n",
    "            for k in range(epoch):\n",
    "                loss_arr[k] = loss(x, y, type, L, theta)\n",
    "                loss_test[k] = loss(x, y, type, L, theta)\n",
    "                z = x @ theta.T\n",
    "                h = sigmoid(z)\n",
    "                t = x.T @ (h - y)\n",
    "                grad = (t) / y.shape[0]\n",
    "                grad += 2 * L * np.sum(theta / np.abs(theta))\n",
    "                theta -= alpha * grad.T\n",
    "                rms_arr[k] = accuracy(x, y, theta)\n",
    "                rms_test[k] = accuracy(x_test, y_test, theta)\n",
    "\n",
    "        elif (type == \"l2\"):\n",
    "            for k in range(epoch):\n",
    "                loss_arr[k] = loss(x, y, type, L, theta)\n",
    "                loss_test[k] = loss(x, y, type, L, theta)\n",
    "                z = x @ theta.T\n",
    "                h = sigmoid(z)\n",
    "                t = x.T @ (h - y)\n",
    "                grad = (t) / y.shape[0]\n",
    "                grad += L * np.sum(theta)\n",
    "                theta -= alpha * grad.T\n",
    "                rms_arr[k] = accuracy(x, y, theta)\n",
    "                rms_test[k] = accuracy(x_test, y_test, theta)\n",
    "\n",
    "        print(rms_arr[-1], 'final accuracy on train')\n",
    "        print(rms_test[-1], 'final accuracy on test')\n",
    "        plt.plot(rms_arr, 'r', label=\"Accuracy\")\n",
    "        plt.plot(loss_arr, 'b', label=\"loss\")\n",
    "        plt.legend(loc='upper left')\n",
    "        plt.title('Accuracy and loss vs epoch for Training set' + str(type))\n",
    "        plt.ylabel('Percentage %')\n",
    "        plt.xlabel('epoch')\n",
    "        plt.show()\n",
    "        plt.plot(rms_test, 'r', label=\"accuracy\")\n",
    "        plt.plot(loss_test, 'b', label=\"loss\")\n",
    "        plt.title('Accuracy and loss vs epoch for Testing set' + str(type))\n",
    "        plt.ylabel('Percentage %')\n",
    "        plt.xlabel('epoch')\n",
    "        plt.legend(loc='upper left')\n",
    "        plt.show()\n",
    "    return theta"
   ]
  },
  {
   "cell_type": "code",
   "execution_count": 8,
   "metadata": {
    "ExecuteTime": {
     "end_time": "2019-09-04T21:42:48.220795Z",
     "start_time": "2019-09-04T21:42:36.723780Z"
    }
   },
   "outputs": [
    {
     "name": "stdout",
     "output_type": "stream",
     "text": [
      "[[-1.60850293e+00  4.91856204e-01 -1.11887647e-01  5.34240442e-02\n",
      "   6.37771062e-02  8.65781620e-01 -3.28071581e-01  5.68326613e-04\n",
      "  -1.69132163e-01  9.20898779e-02  4.49166317e-01  6.47735798e-01\n",
      "   2.92932705e-01  3.61509543e-01  6.26070129e-03]]\n"
     ]
    }
   ],
   "source": [
    "learning_rate = 0.01\n",
    "theta = regression(x, y, learning_rate, x_test, y_test)\n",
    "print(theta)"
   ]
  },
  {
   "cell_type": "code",
   "execution_count": 9,
   "metadata": {
    "ExecuteTime": {
     "end_time": "2019-09-04T21:42:48.228056Z",
     "start_time": "2019-09-04T21:42:48.222745Z"
    }
   },
   "outputs": [
    {
     "name": "stdout",
     "output_type": "stream",
     "text": [
      "81.81274900398407\n"
     ]
    }
   ],
   "source": [
    "print(accuracy(x_test, y_test, theta))"
   ]
  },
  {
   "cell_type": "code",
   "execution_count": null,
   "metadata": {
    "ExecuteTime": {
     "start_time": "2019-09-04T21:44:56.017Z"
    },
    "scrolled": true
   },
   "outputs": [
    {
     "name": "stdout",
     "output_type": "stream",
     "text": [
      "0.01 1.0974987654930568e-06\n"
     ]
    }
   ],
   "source": [
    "alphas = np.logspace(-10, 0, 100)\n",
    "model = Lasso()\n",
    "grid = GridSearchCV(estimator=model, param_grid=dict(alpha=alphas), cv=5)\n",
    "grid.fit(x, y)\n",
    "L = grid.best_estimator_.alpha\n",
    "print(learning_rate, L)\n",
    "theta = regression(x, y, learning_rate, x_test, y_test, 'l1', L)\n",
    "print('Parameter vector Regression with Lasso l1 =>')\n",
    "print(theta.T)"
   ]
  },
  {
   "cell_type": "code",
   "execution_count": null,
   "metadata": {
    "ExecuteTime": {
     "start_time": "2019-09-04T21:45:35.142Z"
    },
    "scrolled": true
   },
   "outputs": [],
   "source": [
    "alphas = np.logspace(-10, 0, 100)\n",
    "model = Ridge()\n",
    "grid = GridSearchCV(estimator=model, param_grid=dict(alpha=alphas), cv=5)\n",
    "grid.fit(x, y)\n",
    "L = grid.best_estimator_.alpha\n",
    "print(learning_rate, L)\n",
    "theta = regression(x, y, learning_rate, x_test, y_test, 'l2', L)\n",
    "print('Parameter vector Regression with Ridge l2 =>')\n",
    "print(theta.T)"
   ]
  }
 ],
 "metadata": {
  "kernelspec": {
   "display_name": "Python 3",
   "language": "python",
   "name": "python3"
  },
  "language_info": {
   "codemirror_mode": {
    "name": "ipython",
    "version": 3
   },
   "file_extension": ".py",
   "mimetype": "text/x-python",
   "name": "python",
   "nbconvert_exporter": "python",
   "pygments_lexer": "ipython3",
   "version": "3.7.3"
  },
  "varInspector": {
   "cols": {
    "lenName": 16,
    "lenType": 16,
    "lenVar": 40
   },
   "kernels_config": {
    "python": {
     "delete_cmd_postfix": "",
     "delete_cmd_prefix": "del ",
     "library": "var_list.py",
     "varRefreshCmd": "print(var_dic_list())"
    },
    "r": {
     "delete_cmd_postfix": ") ",
     "delete_cmd_prefix": "rm(",
     "library": "var_list.r",
     "varRefreshCmd": "cat(var_dic_list()) "
    }
   },
   "types_to_exclude": [
    "module",
    "function",
    "builtin_function_or_method",
    "instance",
    "_Feature"
   ],
   "window_display": false
  }
 },
 "nbformat": 4,
 "nbformat_minor": 2
}
