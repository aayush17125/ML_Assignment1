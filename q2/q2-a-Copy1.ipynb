{
 "cells": [
  {
   "cell_type": "code",
   "execution_count": 12,
   "metadata": {
    "ExecuteTime": {
     "end_time": "2019-09-02T17:25:08.350256Z",
     "start_time": "2019-09-02T17:25:08.345821Z"
    }
   },
   "outputs": [],
   "source": [
    "import numpy as np\n",
    "import pandas as pd\n",
    "import sklearn\n",
    "from sklearn.linear_model import LogisticRegression\n",
    "from sklearn import datasets\n",
    "from sklearn.preprocessing import StandardScaler"
   ]
  },
  {
   "cell_type": "code",
   "execution_count": 13,
   "metadata": {
    "ExecuteTime": {
     "end_time": "2019-09-02T17:25:09.840723Z",
     "start_time": "2019-09-02T17:25:09.065861Z"
    }
   },
   "outputs": [
    {
     "name": "stdout",
     "output_type": "stream",
     "text": [
      "37.66328492805517\n"
     ]
    }
   ],
   "source": [
    "data = pd.read_csv(\"train.csv\",names=[\"age\",\"workclass\",\"fnlwgt\",\"education\",\"education-num\",\"marital-status\",\"occupation\",\"relationship\",\"race\",\"sex\",\"capital-gain\",\"capital-loss\",\"hours-per-week\",\"native-country\",\"output\"])\n",
    "li = [\"workclass\",\"education\",\"marital-status\",\"occupation\",\"relationship\",\"race\",\"sex\",\"native-country\",\"output\"]\n",
    "for i in li:\n",
    "    data[i] = data[i].astype('category')\n",
    "    data[i] = data[i].cat.codes\n",
    "# data = data.to_numpy()\n",
    "y = data.iloc[:,14]\n",
    "x = data.iloc[:,0:14]\n",
    "y = y.to_numpy()\n",
    "x = x.to_numpy()\n",
    "data = pd.read_csv(\"test.csv\",names=[\"age\",\"workclass\",\"fnlwgt\",\"education\",\"education-num\",\"marital-status\",\"occupation\",\"relationship\",\"race\",\"sex\",\"capital-gain\",\"capital-loss\",\"hours-per-week\",\"native-country\",\"output\"])\n",
    "li = [\"workclass\",\"education\",\"marital-status\",\"occupation\",\"relationship\",\"race\",\"sex\",\"native-country\",\"output\"]\n",
    "for i in li:\n",
    "    data[i] = data[i].astype('category')\n",
    "    data[i] = data[i].cat.codes\n",
    "# data = data.to_numpy()\n",
    "y_test = data.iloc[:,14]\n",
    "x_test = data.iloc[:,0:14]\n",
    "y_test = y_test.to_numpy()\n",
    "x_test = x_test.to_numpy()\n",
    "scaler = StandardScaler()\n",
    "x_std = scaler.fit_transform(x)\n",
    "clf = LogisticRegression(random_state=0, multi_class='multinomial',solver='newton-cg')\n",
    "model = clf.fit(x_std, y)\n",
    "ans = clf.predict(x_test)\n",
    "ans = np.sum(np.abs(ans-y_test))\n",
    "print(ans*100/x.shape[0])\n",
    "# clf.score(x_test,y_test)"
   ]
  },
  {
   "cell_type": "code",
   "execution_count": null,
   "metadata": {},
   "outputs": [],
   "source": []
  }
 ],
 "metadata": {
  "kernelspec": {
   "display_name": "Python 3",
   "language": "python",
   "name": "python3"
  },
  "language_info": {
   "codemirror_mode": {
    "name": "ipython",
    "version": 3
   },
   "file_extension": ".py",
   "mimetype": "text/x-python",
   "name": "python",
   "nbconvert_exporter": "python",
   "pygments_lexer": "ipython3",
   "version": "3.7.3"
  },
  "varInspector": {
   "cols": {
    "lenName": 16,
    "lenType": 16,
    "lenVar": 40
   },
   "kernels_config": {
    "python": {
     "delete_cmd_postfix": "",
     "delete_cmd_prefix": "del ",
     "library": "var_list.py",
     "varRefreshCmd": "print(var_dic_list())"
    },
    "r": {
     "delete_cmd_postfix": ") ",
     "delete_cmd_prefix": "rm(",
     "library": "var_list.r",
     "varRefreshCmd": "cat(var_dic_list()) "
    }
   },
   "types_to_exclude": [
    "module",
    "function",
    "builtin_function_or_method",
    "instance",
    "_Feature"
   ],
   "window_display": false
  }
 },
 "nbformat": 4,
 "nbformat_minor": 2
}
