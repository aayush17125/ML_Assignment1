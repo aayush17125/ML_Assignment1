{
 "cells": [
  {
   "cell_type": "code",
   "execution_count": 9,
   "metadata": {
    "ExecuteTime": {
     "end_time": "2019-09-03T22:05:45.761116Z",
     "start_time": "2019-09-03T22:05:45.742903Z"
    }
   },
   "outputs": [],
   "source": [
    "import numpy as np\n",
    "import pandas as pd\n",
    "import sklearn\n",
    "import matplotlib.pyplot as plt\n",
    "import math\n",
    "import random\n",
    "from sklearn.linear_model import LogisticRegression\n",
    "from sklearn import datasets\n",
    "from sklearn.preprocessing import StandardScaler"
   ]
  },
  {
   "cell_type": "code",
   "execution_count": 10,
   "metadata": {
    "ExecuteTime": {
     "end_time": "2019-09-03T22:05:46.012177Z",
     "start_time": "2019-09-03T22:05:45.770185Z"
    }
   },
   "outputs": [],
   "source": [
    "data = pd.read_csv(\"train.csv\",\n",
    "                   names=[\n",
    "                       \"age\", \"workclass\", \"fnlwgt\", \"education\",\n",
    "                       \"education-num\", \"marital-status\", \"occupation\",\n",
    "                       \"relationship\", \"race\", \"sex\", \"capital-gain\",\n",
    "                       \"capital-loss\", \"hours-per-week\", \"native-country\",\n",
    "                       \"output\"\n",
    "                   ])\n",
    "li = [\n",
    "    \"age\", \"workclass\", \"fnlwgt\", \"education\", \"education-num\",\n",
    "    \"marital-status\", \"occupation\", \"relationship\", \"race\", \"sex\",\n",
    "    \"capital-gain\", \"capital-loss\", \"hours-per-week\", \"native-country\",\n",
    "    \"output\"\n",
    "]\n",
    "for i in li:\n",
    "    data[i] = data[i].astype('category')\n",
    "    data[i] = data[i].cat.codes\n",
    "y = data.iloc[:, 14]\n",
    "x = data.iloc[:, 0:14]\n",
    "y = y.to_numpy()\n",
    "x_norm = (x - x.mean()) / (x.max() - x.min())\n",
    "x1 = x_norm.to_numpy()\n",
    "x = np.insert(x1, 0, 1, axis=1)\n",
    "data = pd.read_csv(\"test.csv\",\n",
    "                   names=[\n",
    "                       \"age\", \"workclass\", \"fnlwgt\", \"education\",\n",
    "                       \"education-num\", \"marital-status\", \"occupation\",\n",
    "                       \"relationship\", \"race\", \"sex\", \"capital-gain\",\n",
    "                       \"capital-loss\", \"hours-per-week\", \"native-country\",\n",
    "                       \"output\"\n",
    "                   ])\n",
    "for i in li:\n",
    "    data[i] = data[i].astype('category')\n",
    "    data[i] = data[i].cat.codes\n",
    "y_test = data.iloc[:, 14]\n",
    "x_test = data.iloc[:, 0:14]\n",
    "y_test = y_test.to_numpy()\n",
    "x_norm = (x_test - x_test.mean()) / (x_test.max() - x_test.min())\n",
    "x1 = x_norm.to_numpy()\n",
    "x_test = np.insert(x1, 0, 1, axis=1)"
   ]
  },
  {
   "cell_type": "code",
   "execution_count": 11,
   "metadata": {
    "ExecuteTime": {
     "end_time": "2019-09-03T22:05:46.018428Z",
     "start_time": "2019-09-03T22:05:46.014456Z"
    }
   },
   "outputs": [],
   "source": [
    "def acc_sig(z):\n",
    "    return 1 / (1 + np.exp(0.5 - z))"
   ]
  },
  {
   "cell_type": "code",
   "execution_count": 12,
   "metadata": {
    "ExecuteTime": {
     "end_time": "2019-09-03T22:05:46.098597Z",
     "start_time": "2019-09-03T22:05:46.019889Z"
    }
   },
   "outputs": [],
   "source": [
    "def sigmoid(z):\n",
    "    return 1 / (1 + np.exp(0 - z))"
   ]
  },
  {
   "cell_type": "code",
   "execution_count": 13,
   "metadata": {
    "ExecuteTime": {
     "end_time": "2019-09-03T22:05:46.187974Z",
     "start_time": "2019-09-03T22:05:46.100720Z"
    }
   },
   "outputs": [],
   "source": [
    "def accuracy(x, y, theta):\n",
    "    ans = x @ theta.T\n",
    "    #     num = 0\n",
    "    #     for i in range(y.shape[0]):\n",
    "    #         if (ans[i]>=0.5):\n",
    "    #             ans[i][0]=1\n",
    "    #         else:\n",
    "    #             ans[i][0]=0\n",
    "    #         if (y[i]==ans[i][0]):\n",
    "    #             num+=1\n",
    "    #     return (num*100)/y.shape[0]\n",
    "    ans = acc_sig(ans)\n",
    "    ans = np.round(ans)\n",
    "    y = np.reshape(y, (-1, 1))\n",
    "    ans = ans - y\n",
    "    num = np.sum(np.abs(ans))\n",
    "    return ((y.shape[0] - num) * 100) / y.shape[0]"
   ]
  },
  {
   "cell_type": "code",
   "execution_count": 14,
   "metadata": {
    "ExecuteTime": {
     "end_time": "2019-09-03T22:05:46.331262Z",
     "start_time": "2019-09-03T22:05:46.190267Z"
    }
   },
   "outputs": [],
   "source": [
    "def regression(x, y, alpha, x_test, y_test):\n",
    "    epoch = 10000\n",
    "    rms_arr = [0] * epoch\n",
    "    rms_validation = [0] * epoch\n",
    "    theta = np.ones((1, 15))\n",
    "    y = np.reshape(y, (-1, 1))\n",
    "    for k in range(epoch):\n",
    "        zz = x @ theta.T\n",
    "        h = sigmoid(zz)\n",
    "        tt = x.T @ (h - y)\n",
    "        grad = (tt) / y.shape[0]\n",
    "        theta -= alpha * grad.T\n",
    "        rms_arr[k] = accuracy(x, y, theta)\n",
    "        rms_validation[k] = accuracy(x_test, y_test, theta)\n",
    "    plt.plot(rms_arr)\n",
    "    plt.title('Accuracy vs epoch for Training set')\n",
    "    plt.ylabel('Accuracy')\n",
    "    plt.xlabel('epoch')\n",
    "    plt.show()\n",
    "    plt.plot(rms_validation)\n",
    "    plt.title('Accuracy vs epoch for Testing set')\n",
    "    plt.ylabel('Accuracy')\n",
    "    plt.xlabel('epoch')\n",
    "    plt.show()\n",
    "    return theta"
   ]
  },
  {
   "cell_type": "code",
   "execution_count": 15,
   "metadata": {
    "ExecuteTime": {
     "end_time": "2019-09-03T22:06:14.645113Z",
     "start_time": "2019-09-03T22:05:46.343984Z"
    }
   },
   "outputs": [
    {
     "data": {
      "image/png": "[encoded data removed]",
      "text/plain": [
       "<Figure size 432x288 with 1 Axes>"
      ]
     },
     "metadata": {
      "needs_background": "light"
     },
     "output_type": "display_data"
    },
    {
     "data": {
      "image/png": "[encoded data removed]",
      "text/plain": [
       "<Figure size 432x288 with 1 Axes>"
      ]
     },
     "metadata": {
      "needs_background": "light"
     },
     "output_type": "display_data"
    },
    {
     "name": "stdout",
     "output_type": "stream",
     "text": [
      "[[-1.60028504  2.60744913 -0.68135029  0.18783231  0.25043271  5.04186143\n",
      "  -1.31368113  0.00729347 -0.59871716  0.43651003  0.91128727  3.24508197\n",
      "   2.55968044  2.76653317  0.04654159]]\n"
     ]
    }
   ],
   "source": [
    "learning_rate = 0.18\n",
    "theta = regression(x, y, learning_rate, x_test, y_test)\n",
    "print(theta)"
   ]
  },
  {
   "cell_type": "code",
   "execution_count": 16,
   "metadata": {
    "ExecuteTime": {
     "end_time": "2019-09-03T22:06:14.653635Z",
     "start_time": "2019-09-03T22:06:14.649189Z"
    }
   },
   "outputs": [
    {
     "name": "stdout",
     "output_type": "stream",
     "text": [
      "81.28154050464808\n"
     ]
    }
   ],
   "source": [
    "print(accuracy(x_test, y_test, theta))"
   ]
  }
 ],
 "metadata": {
  "kernelspec": {
   "display_name": "Python 3",
   "language": "python",
   "name": "python3"
  },
  "language_info": {
   "codemirror_mode": {
    "name": "ipython",
    "version": 3
   },
   "file_extension": ".py",
   "mimetype": "text/x-python",
   "name": "python",
   "nbconvert_exporter": "python",
   "pygments_lexer": "ipython3",
   "version": "3.7.3"
  },
  "varInspector": {
   "cols": {
    "lenName": 16,
    "lenType": 16,
    "lenVar": 40
   },
   "kernels_config": {
    "python": {
     "delete_cmd_postfix": "",
     "delete_cmd_prefix": "del ",
     "library": "var_list.py",
     "varRefreshCmd": "print(var_dic_list())"
    },
    "r": {
     "delete_cmd_postfix": ") ",
     "delete_cmd_prefix": "rm(",
     "library": "var_list.r",
     "varRefreshCmd": "cat(var_dic_list()) "
    }
   },
   "types_to_exclude": [
    "module",
    "function",
    "builtin_function_or_method",
    "instance",
    "_Feature"
   ],
   "window_display": false
  }
 },
 "nbformat": 4,
 "nbformat_minor": 2
}
