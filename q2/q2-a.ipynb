{
 "cells": [
  {
   "cell_type": "code",
   "execution_count": 52,
   "metadata": {
    "ExecuteTime": {
     "end_time": "2019-09-04T10:49:44.686808Z",
     "start_time": "2019-09-04T10:49:44.660847Z"
    }
   },
   "outputs": [],
   "source": [
    "import numpy as np\n",
    "import pandas as pd\n",
    "import matplotlib.pyplot as plt\n",
    "import math\n",
    "import random\n",
    "from sklearn.linear_model import Ridge, Lasso\n",
    "from sklearn.model_selection import GridSearchCV\n",
    "from sklearn.model_selection import cross_val_score "
   ]
  },
  {
   "cell_type": "code",
   "execution_count": 53,
   "metadata": {
    "ExecuteTime": {
     "end_time": "2019-09-04T10:49:44.912067Z",
     "start_time": "2019-09-04T10:49:44.696397Z"
    }
   },
   "outputs": [],
   "source": [
    "data = pd.read_csv(\"train.csv\",\n",
    "                   names=[\n",
    "                       \"age\", \"workclass\", \"fnlwgt\", \"education\",\n",
    "                       \"education-num\", \"marital-status\", \"occupation\",\n",
    "                       \"relationship\", \"race\", \"sex\", \"capital-gain\",\n",
    "                       \"capital-loss\", \"hours-per-week\", \"native-country\",\n",
    "                       \"output\"\n",
    "                   ])\n",
    "li = [\n",
    "    \"workclass\", \"education\", \"marital-status\", \"occupation\", \"relationship\",\n",
    "    \"race\", \"sex\", \"native-country\", \"output\"\n",
    "]\n",
    "for i in li:\n",
    "    data[i] = data[i].astype('category')\n",
    "    data[i] = data[i].cat.codes\n",
    "y = data.iloc[:, 14]\n",
    "x = data.iloc[:, 0:14]\n",
    "y = y.to_numpy()\n",
    "x_norm = (x - x.mean()) / (x.max() - x.min())\n",
    "x1 = x_norm.to_numpy()\n",
    "x = np.insert(x1, 0, 1, axis=1)\n",
    "data = pd.read_csv(\"test.csv\",\n",
    "                   names=[\n",
    "                       \"age\", \"workclass\", \"fnlwgt\", \"education\",\n",
    "                       \"education-num\", \"marital-status\", \"occupation\",\n",
    "                       \"relationship\", \"race\", \"sex\", \"capital-gain\",\n",
    "                       \"capital-loss\", \"hours-per-week\", \"native-country\",\n",
    "                       \"output\"\n",
    "                   ])\n",
    "for i in li:\n",
    "    data[i] = data[i].astype('category')\n",
    "    data[i] = data[i].cat.codes\n",
    "y_test = data.iloc[:, 14]\n",
    "x_test = data.iloc[:, 0:14]\n",
    "y_test = y_test.to_numpy()\n",
    "x_norm = (x_test - x_test.mean()) / (x_test.max() - x_test.min())\n",
    "x1 = x_norm.to_numpy()\n",
    "x_test = np.insert(x1, 0, 1, axis=1)"
   ]
  },
  {
   "cell_type": "code",
   "execution_count": 54,
   "metadata": {
    "ExecuteTime": {
     "end_time": "2019-09-04T10:49:44.916170Z",
     "start_time": "2019-09-04T10:49:44.913549Z"
    }
   },
   "outputs": [],
   "source": [
    "def acc_sig(z):\n",
    "    return 1 / (1 + np.exp(0.5 - z))"
   ]
  },
  {
   "cell_type": "code",
   "execution_count": 55,
   "metadata": {
    "ExecuteTime": {
     "end_time": "2019-09-04T10:49:45.056982Z",
     "start_time": "2019-09-04T10:49:44.917623Z"
    }
   },
   "outputs": [],
   "source": [
    "def sigmoid(z):\n",
    "    return 1 / (1 + np.exp(0 - z))"
   ]
  },
  {
   "cell_type": "code",
   "execution_count": null,
   "metadata": {},
   "outputs": [],
   "source": [
    "def loss():\n",
    "    "
   ]
  },
  {
   "cell_type": "code",
   "execution_count": 56,
   "metadata": {
    "ExecuteTime": {
     "end_time": "2019-09-04T10:49:45.142930Z",
     "start_time": "2019-09-04T10:49:45.063652Z"
    }
   },
   "outputs": [],
   "source": [
    "def accuracy(x, y, theta):\n",
    "    ans = x @ theta.T\n",
    "#     num = 0\n",
    "#     for i in range(y.shape[0]):\n",
    "#         if (ans[i]>=0.5):\n",
    "#             ans[i][0]=1\n",
    "#         else:\n",
    "#             ans[i][0]=0\n",
    "#         if (y[i]==ans[i][0]):\n",
    "#             num+=1\n",
    "#     return (num*100)/y.shape[0]\n",
    "    ans = acc_sig(ans)\n",
    "    ans = np.round(ans)\n",
    "    y = np.reshape(y, (-1, 1))\n",
    "    ans = ans-y\n",
    "    num = np.sum(np.abs(ans))\n",
    "    return ((y.shape[0]-num)*100)/y.shape[0]"
   ]
  },
  {
   "cell_type": "code",
   "execution_count": 71,
   "metadata": {
    "ExecuteTime": {
     "end_time": "2019-09-04T11:06:28.994683Z",
     "start_time": "2019-09-04T11:06:28.938155Z"
    }
   },
   "outputs": [],
   "source": [
    "def regression(x, y, alpha, x_test, y_test,type=\"normal\",L=0):\n",
    "    epoch = 10000\n",
    "    theta = np.ones((1, 15))\n",
    "    y = np.reshape(y, (-1, 1))\n",
    "    if (type==\"normal\"):\n",
    "        for k in range(epoch):\n",
    "            z = x @ theta.T\n",
    "            h = sigmoid(z)\n",
    "            t = x.T @ (h - y)\n",
    "            grad = (t) / y.shape[0]\n",
    "            theta -= alpha * grad.T\n",
    "    else:\n",
    "        rms_arr = [0] * epoch\n",
    "        rms_validation = [0] * epoch\n",
    "        if (type==\"l1\"):\n",
    "            for k in range(epoch):\n",
    "                z = x @ theta.T\n",
    "                h = sigmoid(z)\n",
    "                t = x.T @ (h - y)\n",
    "                grad = (t) / y.shape[0]\n",
    "                grad += 2*L*np.sum(theta/np.abs(theta))\n",
    "                theta -= alpha * grad.T\n",
    "                rms_arr[k] = accuracy(x, y, theta)\n",
    "                rms_validation[k] = accuracy(x_test, y_test, theta)\n",
    "        elif (type==\"l2\"):\n",
    "            for k in range(epoch):\n",
    "                z = x @ theta.T\n",
    "                h = sigmoid(z)\n",
    "                t = x.T @ (h - y)\n",
    "                grad = (t) / y.shape[0]\n",
    "                grad+= L*np.sum(theta)\n",
    "                theta -= alpha * grad.T\n",
    "                rms_arr[k] = accuracy(x, y, theta)\n",
    "                rms_validation[k] = accuracy(x_test, y_test, theta)\n",
    "        print(rms_arr[-1],'final accuracy on train')\n",
    "        print(rms_validation[-1],'final accuracy on test')\n",
    "        plt.plot(rms_arr,'r')\n",
    "#         plt.plot(100-rms_arr,'b')\n",
    "        plt.title('Accuracy vs epoch for Training set'+str(type))\n",
    "        plt.ylabel('Accuracy')\n",
    "        plt.xlabel('epoch')\n",
    "        plt.show()\n",
    "        plt.plot(rms_validation,'r')\n",
    "#         plt.plot(100-rms_validation,'b')\n",
    "        plt.title('Accuracy vs epoch for Testing set'+str(type))\n",
    "        plt.ylabel('Accuracy')\n",
    "        plt.xlabel('epoch')\n",
    "        plt.show()\n",
    "    return theta"
   ]
  },
  {
   "cell_type": "code",
   "execution_count": 72,
   "metadata": {
    "ExecuteTime": {
     "end_time": "2019-09-04T11:06:41.845768Z",
     "start_time": "2019-09-04T11:06:29.603064Z"
    }
   },
   "outputs": [
    {
     "name": "stdout",
     "output_type": "stream",
     "text": [
      "[[-1.50056875  2.57088091 -0.35730667  0.87174288  0.3265688   4.35030461\n",
      "  -1.23461643  0.06485483 -0.67291787  0.45978707  0.86102584  2.63753076\n",
      "   1.86697378  2.2495177   0.24265082]]\n"
     ]
    }
   ],
   "source": [
    "learning_rate = 0.05\n",
    "theta = regression(x, y, learning_rate, x_test, y_test)\n",
    "print(theta)"
   ]
  },
  {
   "cell_type": "code",
   "execution_count": 73,
   "metadata": {
    "ExecuteTime": {
     "end_time": "2019-09-04T11:06:41.982750Z",
     "start_time": "2019-09-04T11:06:41.966768Z"
    }
   },
   "outputs": [
    {
     "name": "stdout",
     "output_type": "stream",
     "text": [
      "79.26294820717132\n"
     ]
    }
   ],
   "source": [
    "print(accuracy(x_test,y_test,theta))"
   ]
  },
  {
   "cell_type": "code",
   "execution_count": null,
   "metadata": {
    "ExecuteTime": {
     "start_time": "2019-09-04T11:06:30.696Z"
    },
    "scrolled": true
   },
   "outputs": [
    {
     "name": "stdout",
     "output_type": "stream",
     "text": [
      "0.05 6.892612104349695e-07\n"
     ]
    }
   ],
   "source": [
    "alphas = np.logspace(-10,0,100)\n",
    "model = Lasso()\n",
    "grid = GridSearchCV(estimator=model,param_grid=dict(alpha=alphas),cv=5)\n",
    "grid.fit(x,y)\n",
    "L = grid.best_estimator_.alpha\n",
    "print(learning_rate ,L)\n",
    "theta = regression(x,y,learning_rate,x_test,y_test,'l1',L)\n",
    "print('Parameter vector Regression with Lasso l1 =>')\n",
    "print(theta.T)"
   ]
  },
  {
   "cell_type": "code",
   "execution_count": null,
   "metadata": {
    "ExecuteTime": {
     "start_time": "2019-09-04T11:06:32.246Z"
    },
    "scrolled": true
   },
   "outputs": [],
   "source": [
    "alphas = np.logspace(-10,0,100)\n",
    "model = Ridge()\n",
    "grid = GridSearchCV(estimator=model,param_grid=dict(alpha=alphas),cv=5)\n",
    "grid.fit(x,y)\n",
    "L = grid.best_estimator_.alpha\n",
    "print(learning_rate ,L)\n",
    "theta = regression(x,y,learning_rate,x_test,y_test,'l2',L)\n",
    "print('Parameter vector Regression with Ridge l2 =>')\n",
    "print(theta.T)"
   ]
  }
 ],
 "metadata": {
  "kernelspec": {
   "display_name": "Python 3",
   "language": "python",
   "name": "python3"
  },
  "language_info": {
   "codemirror_mode": {
    "name": "ipython",
    "version": 3
   },
   "file_extension": ".py",
   "mimetype": "text/x-python",
   "name": "python",
   "nbconvert_exporter": "python",
   "pygments_lexer": "ipython3",
   "version": "3.7.3"
  },
  "varInspector": {
   "cols": {
    "lenName": 16,
    "lenType": 16,
    "lenVar": 40
   },
   "kernels_config": {
    "python": {
     "delete_cmd_postfix": "",
     "delete_cmd_prefix": "del ",
     "library": "var_list.py",
     "varRefreshCmd": "print(var_dic_list())"
    },
    "r": {
     "delete_cmd_postfix": ") ",
     "delete_cmd_prefix": "rm(",
     "library": "var_list.r",
     "varRefreshCmd": "cat(var_dic_list()) "
    }
   },
   "types_to_exclude": [
    "module",
    "function",
    "builtin_function_or_method",
    "instance",
    "_Feature"
   ],
   "window_display": false
  }
 },
 "nbformat": 4,
 "nbformat_minor": 2
}
