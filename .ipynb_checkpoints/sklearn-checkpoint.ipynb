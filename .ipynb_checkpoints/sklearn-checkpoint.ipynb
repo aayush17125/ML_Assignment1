{
 "cells": [
  {
   "cell_type": "code",
   "execution_count": null,
   "metadata": {},
   "outputs": [],
   "source": [
    "import numpy as np\n",
    "import matplotlib.pyplot as plt\n",
    "import math\n",
    "import random\n",
    "from sklearn.linear_model import Ridge, Lasso, LinearRegression\n",
    "from sklearn.model_selection import GridSearchCV\n",
    "from sklearn.model_selection import cross_val_score \n",
    "from statistics import mean \n",
    "#data preprocessing (randomisation+normalisation)\n",
    "#data preprocessing (randomisation+normalisation)\n",
    "f = open('Dataset_q1.data', 'r')\n",
    "f1 = f.readlines()\n",
    "random.shuffle(f1)\n",
    "n = len(f1)\n",
    "x = []\n",
    "y = []\n",
    "p = 0\n",
    "# infant =0 male = 2 female =1\n",
    "for i in f1:\n",
    "    p = i.split()\n",
    "    if (p[0] == 'M'):\n",
    "        p[0] = 2\n",
    "    elif (p[0] == 'F'):\n",
    "        p[0] = 1\n",
    "    elif (p[0] == 'I'):\n",
    "        p[0] = 0\n",
    "    y.append([float(p[-1])])\n",
    "    p = p[:-1]\n",
    "    x.append([1] + list(map(float, p)))  # this to for x0 to be 1\n",
    "max_val = [0]*len(x[0])\n",
    "for i in range(len(x)):\n",
    "        for j in range(len(x[i])):\n",
    "            max_val[j] = max(max_val[j],x[i][j])\n",
    "for i in range(len(x)):\n",
    "    for j in range(len(x[i])):\n",
    "        x[i][j] = x[i][j]/max_val[j]\n",
    "# x = np.asmatrix(x)\n",
    "# y = np.asmatrix(y)\n",
    "#implementing 5-fold\n",
    "testing_x = []\n",
    "training_x = []\n",
    "testing_y = []\n",
    "training_y = []\n",
    "k = 5  # folds\n",
    "fold_size = int(len(x) / k)\n",
    "for i in range(k):\n",
    "    test_x = []\n",
    "    test_y = []\n",
    "    train_x = []\n",
    "    train_y = []\n",
    "    for j in range(len(x)):\n",
    "        if (j >= (i * fold_size) and j < ((i + 1) * fold_size)):\n",
    "            test_x.append(x[j])\n",
    "            test_y.append(y[j])\n",
    "        else:\n",
    "            train_x.append(x[j])\n",
    "            train_y.append(y[j])\n",
    "    testing_x.append(test_x)\n",
    "    testing_y.append(test_y)\n",
    "    training_x.append(train_x)\n",
    "    training_y.append(train_y)\n",
    "for i in range(5):  # change to 5\n",
    "    train_x = np.asarray(training_x[i])\n",
    "    test_x = np.asarray(testing_x[i])\n",
    "    train_y = np.asarray(training_y[i])\n",
    "    test_y = np.asarray(testing_y[i])\n",
    "    reg = LinearRegression()\n",
    "    reg.fit(train_x,train_y)\n",
    "    print(reg.coef_)"
   ]
  }
 ],
 "metadata": {
  "kernelspec": {
   "display_name": "Python 3",
   "language": "python",
   "name": "python3"
  },
  "language_info": {
   "codemirror_mode": {
    "name": "ipython",
    "version": 3
   },
   "file_extension": ".py",
   "mimetype": "text/x-python",
   "name": "python",
   "nbconvert_exporter": "python",
   "pygments_lexer": "ipython3",
   "version": "3.7.3"
  },
  "varInspector": {
   "cols": {
    "lenName": 16,
    "lenType": 16,
    "lenVar": 40
   },
   "kernels_config": {
    "python": {
     "delete_cmd_postfix": "",
     "delete_cmd_prefix": "del ",
     "library": "var_list.py",
     "varRefreshCmd": "print(var_dic_list())"
    },
    "r": {
     "delete_cmd_postfix": ") ",
     "delete_cmd_prefix": "rm(",
     "library": "var_list.r",
     "varRefreshCmd": "cat(var_dic_list()) "
    }
   },
   "types_to_exclude": [
    "module",
    "function",
    "builtin_function_or_method",
    "instance",
    "_Feature"
   ],
   "window_display": false
  }
 },
 "nbformat": 4,
 "nbformat_minor": 2
}
