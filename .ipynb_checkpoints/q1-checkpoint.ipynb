{
 "cells": [
  {
   "cell_type": "code",
   "execution_count": 103,
   "metadata": {
    "ExecuteTime": {
     "end_time": "2019-09-01T10:00:57.870635Z",
     "start_time": "2019-09-01T10:00:57.862484Z"
    }
   },
   "outputs": [],
   "source": [
    "import numpy as np\n",
    "import matplotlib.pyplot as plt\n",
    "import math\n",
    "import random"
   ]
  },
  {
   "cell_type": "code",
   "execution_count": 104,
   "metadata": {
    "ExecuteTime": {
     "end_time": "2019-09-01T10:00:58.017230Z",
     "start_time": "2019-09-01T10:00:57.876809Z"
    }
   },
   "outputs": [],
   "source": [
    "#data preprocessing (randomisation+normalisation)\n",
    "f = open('Dataset_q1.data', 'r')\n",
    "f1 = f.readlines()\n",
    "random.shuffle(f1)\n",
    "n = len(f1)\n",
    "x = []\n",
    "y = []\n",
    "p = 0\n",
    "# infant =0 male = 2 female =1 infant =0\n",
    "for i in f1:\n",
    "    p = i.split()\n",
    "    if (p[0] == 'M'):\n",
    "        p[0] = 2\n",
    "    elif (p[0] == 'F'):\n",
    "        p[0] = 1\n",
    "    elif (p[0] == 'I'):\n",
    "        p[0] = 0\n",
    "    y.append([int(p[-1])])\n",
    "    p = p[:-1]\n",
    "    x.append([1] + list(map(float, p)))  # this to for x0 to be 1\n",
    "\n",
    "max_val = [0]*len(x[0])\n",
    "for i in range(len(x)):\n",
    "        for j in range(len(x[i])):\n",
    "            max_val[j] = max(max_val[j],x[i][j])\n",
    "for i in range(len(x)):\n",
    "    for j in range(len(x[i])):\n",
    "        x[i][j] = x[i][j]/max_val[j]\n",
    "# x = np.asmatrix(x)\n",
    "# y = np.asmatrix(y)\n",
    "alpha = 0.1  # learning rate"
   ]
  },
  {
   "cell_type": "code",
   "execution_count": 105,
   "metadata": {
    "ExecuteTime": {
     "end_time": "2019-09-01T10:00:58.054214Z",
     "start_time": "2019-09-01T10:00:58.019186Z"
    }
   },
   "outputs": [],
   "source": [
    "def regression(x, y, alpha):\n",
    "    epoch = 10000\n",
    "    rms_arr = [0] * epoch\n",
    "    theta = np.zeros((1, 9))\n",
    "    for i in range(9):\n",
    "        theta[0, i] = 2\n",
    "    y = np.reshape(y, (-1, 1))\n",
    "    for k in range(epoch):\n",
    "        b = x @ theta.T\n",
    "        c = b - y\n",
    "        ss = np.sum(x * c, axis=0)\n",
    "        theta -= (alpha * ss / x.shape[0])\n",
    "        rms_arr[k] = cost(x, y, theta)\n",
    "    \n",
    "    plt.plot(rms_arr)\n",
    "    plt.show()\n",
    "    return theta,rms_arr[-1]"
   ]
  },
  {
   "cell_type": "code",
   "execution_count": null,
   "metadata": {},
   "outputs": [],
   "source": []
  },
  {
   "cell_type": "code",
   "execution_count": 106,
   "metadata": {
    "ExecuteTime": {
     "end_time": "2019-09-01T10:00:58.139563Z",
     "start_time": "2019-09-01T10:00:58.061930Z"
    }
   },
   "outputs": [],
   "source": [
    "def cost(x, y, theta):\n",
    "    y = np.reshape(y, (-1, 1))\n",
    "    return math.sqrt(np.sum(np.power(((x @ theta.T) - y), 2)) / float(len(x)))"
   ]
  },
  {
   "cell_type": "code",
   "execution_count": 107,
   "metadata": {
    "ExecuteTime": {
     "end_time": "2019-09-01T10:00:58.290328Z",
     "start_time": "2019-09-01T10:00:58.144221Z"
    }
   },
   "outputs": [],
   "source": [
    "#implementing 5-fold\n",
    "testing_x = []\n",
    "training_x = []\n",
    "testing_y = []\n",
    "training_y = []\n",
    "k = 5  # folds\n",
    "fold_size = int(len(x) / k)\n",
    "for i in range(k):\n",
    "    test_x = []\n",
    "    test_y = []\n",
    "    train_x = []\n",
    "    train_y = []\n",
    "    for j in range(len(x)):\n",
    "        if (j >= (i * fold_size) and j < ((i + 1) * fold_size)):\n",
    "            test_x.append(x[j])\n",
    "            test_y.append(y[j])\n",
    "        else:\n",
    "            train_x.append(x[j])\n",
    "            train_y.append(y[j])\n",
    "    testing_x.append(test_x)\n",
    "    testing_y.append(test_y)\n",
    "    training_x.append(train_x)\n",
    "    training_y.append(train_y)"
   ]
  },
  {
   "cell_type": "code",
   "execution_count": 108,
   "metadata": {
    "ExecuteTime": {
     "end_time": "2019-09-01T10:01:06.345976Z",
     "start_time": "2019-09-01T10:00:58.296992Z"
    },
    "scrolled": false
   },
   "outputs": [
    {
     "data": {
      "image/png": "[encoded data removed]",
      "text/plain": [
       "<Figure size 432x288 with 1 Axes>"
      ]
     },
     "metadata": {
      "needs_background": "light"
     },
     "output_type": "display_data"
    },
    {
     "name": "stdout",
     "output_type": "stream",
     "text": [
      "[[  2.92404736]\n",
      " [  0.87462479]\n",
      " [  1.89773314]\n",
      " [  5.97304262]\n",
      " [  6.77151873]\n",
      " [  4.3942296 ]\n",
      " [-17.45451889]\n",
      " [ -2.10993157]\n",
      " [ 17.58768337]]\n",
      "2.2466120921250052 RMSE Training set Regrssion\n",
      "2.1793417122186445 RMSE Testing set Regrssion\n",
      "[[  2.94511701]\n",
      " [  0.83125425]\n",
      " [ -1.14286858]\n",
      " [  8.40738847]\n",
      " [ 11.78416967]\n",
      " [ 27.64979843]\n",
      " [-30.88149451]\n",
      " [ -8.35481094]\n",
      " [  7.96957989]]\n",
      "-------------------------------------------\n"
     ]
    },
    {
     "ename": "KeyboardInterrupt",
     "evalue": "",
     "output_type": "error",
     "traceback": [
      "\u001b[0;31m---------------------------------------------------------------------------\u001b[0m",
      "\u001b[0;31mKeyboardInterrupt\u001b[0m                         Traceback (most recent call last)",
      "\u001b[0;32m<ipython-input-108-608ce9799b77>\u001b[0m in \u001b[0;36m<module>\u001b[0;34m\u001b[0m\n\u001b[1;32m      4\u001b[0m     \u001b[0mtrain_y\u001b[0m \u001b[0;34m=\u001b[0m \u001b[0mnp\u001b[0m\u001b[0;34m.\u001b[0m\u001b[0masarray\u001b[0m\u001b[0;34m(\u001b[0m\u001b[0mtraining_y\u001b[0m\u001b[0;34m[\u001b[0m\u001b[0mi\u001b[0m\u001b[0;34m]\u001b[0m\u001b[0;34m)\u001b[0m\u001b[0;34m\u001b[0m\u001b[0;34m\u001b[0m\u001b[0m\n\u001b[1;32m      5\u001b[0m     \u001b[0mtest_y\u001b[0m \u001b[0;34m=\u001b[0m \u001b[0mnp\u001b[0m\u001b[0;34m.\u001b[0m\u001b[0masarray\u001b[0m\u001b[0;34m(\u001b[0m\u001b[0mtesting_y\u001b[0m\u001b[0;34m[\u001b[0m\u001b[0mi\u001b[0m\u001b[0;34m]\u001b[0m\u001b[0;34m)\u001b[0m\u001b[0;34m\u001b[0m\u001b[0;34m\u001b[0m\u001b[0m\n\u001b[0;32m----> 6\u001b[0;31m     \u001b[0mtheta\u001b[0m\u001b[0;34m,\u001b[0m\u001b[0mrms_err\u001b[0m \u001b[0;34m=\u001b[0m \u001b[0mregression\u001b[0m\u001b[0;34m(\u001b[0m\u001b[0mtrain_x\u001b[0m\u001b[0;34m,\u001b[0m \u001b[0mtrain_y\u001b[0m\u001b[0;34m,\u001b[0m \u001b[0malpha\u001b[0m\u001b[0;34m)\u001b[0m\u001b[0;34m\u001b[0m\u001b[0;34m\u001b[0m\u001b[0m\n\u001b[0m\u001b[1;32m      7\u001b[0m     \u001b[0mprint\u001b[0m\u001b[0;34m(\u001b[0m\u001b[0mtheta\u001b[0m\u001b[0;34m.\u001b[0m\u001b[0mT\u001b[0m\u001b[0;34m)\u001b[0m\u001b[0;34m\u001b[0m\u001b[0;34m\u001b[0m\u001b[0m\n\u001b[1;32m      8\u001b[0m     \u001b[0mprint\u001b[0m\u001b[0;34m(\u001b[0m\u001b[0mrms_err\u001b[0m\u001b[0;34m,\u001b[0m \u001b[0;34m'RMSE Training set Regrssion'\u001b[0m\u001b[0;34m)\u001b[0m\u001b[0;34m\u001b[0m\u001b[0;34m\u001b[0m\u001b[0m\n",
      "\u001b[0;32m<ipython-input-105-a057e796d8c8>\u001b[0m in \u001b[0;36mregression\u001b[0;34m(x, y, alpha)\u001b[0m\n\u001b[1;32m      7\u001b[0m     \u001b[0my\u001b[0m \u001b[0;34m=\u001b[0m \u001b[0mnp\u001b[0m\u001b[0;34m.\u001b[0m\u001b[0mreshape\u001b[0m\u001b[0;34m(\u001b[0m\u001b[0my\u001b[0m\u001b[0;34m,\u001b[0m \u001b[0;34m(\u001b[0m\u001b[0;34m-\u001b[0m\u001b[0;36m1\u001b[0m\u001b[0;34m,\u001b[0m \u001b[0;36m1\u001b[0m\u001b[0;34m)\u001b[0m\u001b[0;34m)\u001b[0m\u001b[0;34m\u001b[0m\u001b[0;34m\u001b[0m\u001b[0m\n\u001b[1;32m      8\u001b[0m     \u001b[0;32mfor\u001b[0m \u001b[0mk\u001b[0m \u001b[0;32min\u001b[0m \u001b[0mrange\u001b[0m\u001b[0;34m(\u001b[0m\u001b[0mepoch\u001b[0m\u001b[0;34m)\u001b[0m\u001b[0;34m:\u001b[0m\u001b[0;34m\u001b[0m\u001b[0;34m\u001b[0m\u001b[0m\n\u001b[0;32m----> 9\u001b[0;31m         \u001b[0mb\u001b[0m \u001b[0;34m=\u001b[0m \u001b[0mx\u001b[0m \u001b[0;34m@\u001b[0m \u001b[0mtheta\u001b[0m\u001b[0;34m.\u001b[0m\u001b[0mT\u001b[0m\u001b[0;34m\u001b[0m\u001b[0;34m\u001b[0m\u001b[0m\n\u001b[0m\u001b[1;32m     10\u001b[0m         \u001b[0mc\u001b[0m \u001b[0;34m=\u001b[0m \u001b[0mb\u001b[0m \u001b[0;34m-\u001b[0m \u001b[0my\u001b[0m\u001b[0;34m\u001b[0m\u001b[0;34m\u001b[0m\u001b[0m\n\u001b[1;32m     11\u001b[0m         \u001b[0mss\u001b[0m \u001b[0;34m=\u001b[0m \u001b[0mnp\u001b[0m\u001b[0;34m.\u001b[0m\u001b[0msum\u001b[0m\u001b[0;34m(\u001b[0m\u001b[0mx\u001b[0m \u001b[0;34m*\u001b[0m \u001b[0mc\u001b[0m\u001b[0;34m,\u001b[0m \u001b[0maxis\u001b[0m\u001b[0;34m=\u001b[0m\u001b[0;36m0\u001b[0m\u001b[0;34m)\u001b[0m\u001b[0;34m\u001b[0m\u001b[0;34m\u001b[0m\u001b[0m\n",
      "\u001b[0;31mKeyboardInterrupt\u001b[0m: "
     ]
    }
   ],
   "source": [
    "for i in range(5):  # change to 5\n",
    "    train_x = np.asarray(training_x[i])\n",
    "    test_x = np.asarray(testing_x[i])\n",
    "    train_y = np.asarray(training_y[i])\n",
    "    test_y = np.asarray(testing_y[i])\n",
    "    theta,rms_err = regression(train_x, train_y, alpha)\n",
    "    print(theta.T)\n",
    "    print(rms_err, 'RMSE Training set Regrssion')\n",
    "    print(cost(test_x, test_y, theta), 'RMSE Testing set Regrssion')\n",
    "    #normal equation\n",
    "    theta1 = ((np.linalg.inv(train_x.T @ train_x))@(train_x.T @ train_y)).T\n",
    "    print(theta1.T)\n",
    "    print(cost(train_x,train_y,theta1),'RMSE Training set Normal Eqn')\n",
    "    print(cost(test_x,test_y,theta1),'RMSE Testing set Normal Eqn')\n",
    "    print('-------------------------------------------')"
   ]
  },
  {
   "cell_type": "code",
   "execution_count": null,
   "metadata": {},
   "outputs": [],
   "source": []
  }
 ],
 "metadata": {
  "kernelspec": {
   "display_name": "Python 3",
   "language": "python",
   "name": "python3"
  },
  "language_info": {
   "codemirror_mode": {
    "name": "ipython",
    "version": 3
   },
   "file_extension": ".py",
   "mimetype": "text/x-python",
   "name": "python",
   "nbconvert_exporter": "python",
   "pygments_lexer": "ipython3",
   "version": "3.7.3"
  },
  "varInspector": {
   "cols": {
    "lenName": 16,
    "lenType": 16,
    "lenVar": 40
   },
   "kernels_config": {
    "python": {
     "delete_cmd_postfix": "",
     "delete_cmd_prefix": "del ",
     "library": "var_list.py",
     "varRefreshCmd": "print(var_dic_list())"
    },
    "r": {
     "delete_cmd_postfix": ") ",
     "delete_cmd_prefix": "rm(",
     "library": "var_list.r",
     "varRefreshCmd": "cat(var_dic_list()) "
    }
   },
   "types_to_exclude": [
    "module",
    "function",
    "builtin_function_or_method",
    "instance",
    "_Feature"
   ],
   "window_display": false
  }
 },
 "nbformat": 4,
 "nbformat_minor": 2
}
