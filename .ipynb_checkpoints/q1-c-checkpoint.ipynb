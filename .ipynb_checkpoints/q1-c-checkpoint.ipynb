{
 "cells": [
  {
   "cell_type": "code",
   "execution_count": 1,
   "metadata": {
    "ExecuteTime": {
     "end_time": "2019-09-01T19:34:42.962563Z",
     "start_time": "2019-09-01T19:34:42.502275Z"
    }
   },
   "outputs": [],
   "source": [
    "import numpy as np\n",
    "import matplotlib.pyplot as plt\n",
    "import math\n",
    "import random\n",
    "from sklearn.linear_model import Ridge, Lasso\n",
    "from sklearn.model_selection import GridSearchCV\n",
    "from sklearn.model_selection import cross_val_score \n",
    "from statistics import mean "
   ]
  },
  {
   "cell_type": "code",
   "execution_count": 2,
   "metadata": {
    "ExecuteTime": {
     "end_time": "2019-09-01T19:34:42.969053Z",
     "start_time": "2019-09-01T19:34:42.964352Z"
    }
   },
   "outputs": [],
   "source": [
    "#data preprocessing (randomisation+normalisation)\n",
    "f = open('data.csv', 'r')\n",
    "f1 = f.readlines()\n",
    "f1 = f1[1:]\n",
    "random.shuffle(f1)\n",
    "n = len(f1)\n",
    "x = []\n",
    "x1 = []\n",
    "y = []\n",
    "p = 0\n",
    "for i in f1:\n",
    "    p = i.split(\",\")\n",
    "    y.append([float(p[-1])])\n",
    "    p = p[:-1]\n",
    "    x1.append(list(map(float, p)))\n",
    "    x.append([1] + list(map(float, p)))  # this to for x0 to be 1\n",
    "# x = np.asmatrix(x)\n",
    "# y = np.asmatrix(y)"
   ]
  },
  {
   "cell_type": "code",
   "execution_count": 3,
   "metadata": {
    "ExecuteTime": {
     "end_time": "2019-09-01T19:34:43.078611Z",
     "start_time": "2019-09-01T19:34:42.970307Z"
    }
   },
   "outputs": [],
   "source": [
    "def cost(x, y, theta):\n",
    "    y = np.reshape(y, (-1, 1))\n",
    "    arr = np.power(((x @ theta.T) - y), 2)\n",
    "    return math.sqrt( np.sum(arr) / float(len(x)))"
   ]
  },
  {
   "cell_type": "code",
   "execution_count": 4,
   "metadata": {
    "ExecuteTime": {
     "end_time": "2019-09-01T19:34:43.167899Z",
     "start_time": "2019-09-01T19:34:43.082841Z"
    }
   },
   "outputs": [],
   "source": [
    "def regression(x, y, alpha,epoch = 100000):\n",
    "    theta = np.zeros((1, 2))\n",
    "    for i in range(2):\n",
    "        theta[0, i] = 2\n",
    "    y = np.reshape(y, (-1, 1))\n",
    "    for k in range(epoch):\n",
    "        b = x @ theta.T\n",
    "        c = b - y\n",
    "        ss = np.sum(x * c, axis=0)\n",
    "        theta -= (alpha * ss / x.shape[0])\n",
    "    print(theta,theta)\n",
    "    return theta"
   ]
  },
  {
   "cell_type": "code",
   "execution_count": 5,
   "metadata": {
    "ExecuteTime": {
     "end_time": "2019-09-01T19:34:43.258141Z",
     "start_time": "2019-09-01T19:34:43.170836Z"
    }
   },
   "outputs": [],
   "source": [
    "def regression_ridge_l2(x, y, alpha,L=1,epoch = 100000):\n",
    "    theta = np.zeros((1, 2))\n",
    "    for i in range(2):\n",
    "        theta[0, i] = 2\n",
    "    y = np.reshape(y, (-1, 1))\n",
    "    for k in range(epoch):\n",
    "        b = x @ theta.T\n",
    "        c = b - y\n",
    "        ss = np.sum(x * c, axis=0)\n",
    "        ss+= L*np.sum(theta)\n",
    "        theta -= (alpha * ss / x.shape[0])\n",
    "#         print(theta)\n",
    "    return theta"
   ]
  },
  {
   "cell_type": "code",
   "execution_count": 6,
   "metadata": {
    "ExecuteTime": {
     "end_time": "2019-09-01T19:34:43.389237Z",
     "start_time": "2019-09-01T19:34:43.270712Z"
    }
   },
   "outputs": [],
   "source": [
    "def regression_lasso_l1(x, y, alpha,L=.1,epoch = 100000):\n",
    "    theta = np.zeros((1, 2))\n",
    "    for i in range(2):\n",
    "        theta[0, i] = 2\n",
    "    y = np.reshape(y, (-1, 1))\n",
    "    for k in range(epoch):\n",
    "        b = x @ theta.T\n",
    "        c = b - y\n",
    "        ss = np.sum(x * c, axis=0)\n",
    "        ss+= 2*L*np.sum(theta/np.abs(theta))\n",
    "        theta -= (alpha * ss / x.shape[0])\n",
    "#         print(theta)\n",
    "    return theta"
   ]
  },
  {
   "cell_type": "code",
   "execution_count": 7,
   "metadata": {
    "ExecuteTime": {
     "end_time": "2019-09-01T19:34:43.477161Z",
     "start_time": "2019-09-01T19:34:43.395893Z"
    }
   },
   "outputs": [],
   "source": [
    "def cost_validation(x, y, theta):\n",
    "    y = np.reshape(y, (-1, 1))\n",
    "    arr1 = (x@ theta.T)-y\n",
    "    plt.plot(abs(arr1))\n",
    "    plt.show()\n",
    "    arr = np.power((arr1), 2)\n",
    "    return math.sqrt( np.sum(arr) / float(len(x)))"
   ]
  },
  {
   "cell_type": "code",
   "execution_count": 8,
   "metadata": {
    "ExecuteTime": {
     "end_time": "2019-09-01T19:34:43.577513Z",
     "start_time": "2019-09-01T19:34:43.480146Z"
    }
   },
   "outputs": [],
   "source": [
    "training_x = x\n",
    "training_y = y"
   ]
  },
  {
   "cell_type": "code",
   "execution_count": 9,
   "metadata": {
    "ExecuteTime": {
     "end_time": "2019-09-01T19:34:43.665695Z",
     "start_time": "2019-09-01T19:34:43.585221Z"
    }
   },
   "outputs": [],
   "source": [
    "learning_rate = 0.00055  # learning rate"
   ]
  },
  {
   "cell_type": "code",
   "execution_count": 10,
   "metadata": {
    "ExecuteTime": {
     "end_time": "2019-09-01T19:34:45.382041Z",
     "start_time": "2019-09-01T19:34:43.671108Z"
    },
    "scrolled": false
   },
   "outputs": [
    {
     "name": "stdout",
     "output_type": "stream",
     "text": [
      "[[4.80415736 4.56565875]] [[4.80415736 4.56565875]]\n",
      "Parameter vector Regression =>\n",
      "[[4.80415736]\n",
      " [4.56565875]]\n",
      "Parameter vector Normal eqn =>\n",
      "[[4.80416161]\n",
      " [4.56565869]]\n"
     ]
    },
    {
     "data": {
      "image/png": "[encoded data removed]",
      "text/plain": [
       "<Figure size 432x288 with 1 Axes>"
      ]
     },
     "metadata": {
      "needs_background": "light"
     },
     "output_type": "display_data"
    },
    {
     "name": "stdout",
     "output_type": "stream",
     "text": [
      "32.81660104055683 RMSE Testing set Regression\n",
      "-------------------------------------------\n"
     ]
    }
   ],
   "source": [
    "train_x = np.asarray(training_x)\n",
    "train_y = np.asarray(training_y)\n",
    "theta = regression(train_x, train_y, learning_rate)\n",
    "print('Parameter vector Regression =>')\n",
    "print(theta.T)\n",
    "theta1 = ((np.linalg.inv(train_x.T @ train_x))@(train_x.T @ train_y)).T\n",
    "print('Parameter vector Normal eqn =>')\n",
    "print(theta1.T)\n",
    "line = [0]*105\n",
    "for i in range(105):\n",
    "    line[i] = theta[0,1] + i*theta[0,0]\n",
    "plt.scatter(x1,y,label='data point',alpha=.4,color='black',s=20)\n",
    "plt.plot(line,'-r',label='line')\n",
    "plt.title('Scatter graph with line without regularization')\n",
    "plt.legend(loc='upper left')\n",
    "plt.show()\n",
    "print(cost(train_x, train_y, theta), 'RMSE Testing set Regression')\n",
    "print('-------------------------------------------')"
   ]
  },
  {
   "cell_type": "code",
   "execution_count": 11,
   "metadata": {
    "ExecuteTime": {
     "end_time": "2019-09-01T19:34:50.582366Z",
     "start_time": "2019-09-01T19:34:45.383780Z"
    }
   },
   "outputs": [
    {
     "name": "stderr",
     "output_type": "stream",
     "text": [
      "/home/hav0k/.local/lib/python3.7/site-packages/sklearn/model_selection/_search.py:814: DeprecationWarning: The default of the `iid` parameter will change from True to False in version 0.22 and will be removed in 0.24. This will change numeric results when test-set sizes are unequal.\n",
      "  DeprecationWarning)\n"
     ]
    },
    {
     "name": "stdout",
     "output_type": "stream",
     "text": [
      "0.0001\n",
      "Parameter vector Regression =>\n",
      "[[4.56136108]\n",
      " [4.56929252]]\n"
     ]
    },
    {
     "data": {
      "image/png": "[encoded data removed]",
      "text/plain": [
       "<Figure size 432x288 with 1 Axes>"
      ]
     },
     "metadata": {
      "needs_background": "light"
     },
     "output_type": "display_data"
    },
    {
     "name": "stdout",
     "output_type": "stream",
     "text": [
      "32.816819655705096 RMSE Testing set Regression\n",
      "-------------------------------------------\n"
     ]
    }
   ],
   "source": [
    "alphas = np.logspace(-4,0,1000)\n",
    "model = Ridge()\n",
    "grid = GridSearchCV(estimator=model,param_grid=dict(alpha=alphas),cv=3)\n",
    "grid.fit(x1,y)\n",
    "alpha = grid.best_estimator_.alpha\n",
    "print(alpha)\n",
    "theta = regression_ridge_l2(train_x, train_y, alpha,0.001,100000)\n",
    "print('Parameter vector Regression =>')\n",
    "print(theta.T)\n",
    "line = [0]*105\n",
    "for i in range(105):\n",
    "    line[i] = theta[0,1] + i*theta[0,0]\n",
    "plt.scatter(x1,y,label='data point',alpha=.4,color='black',s=20)\n",
    "plt.plot(line,'-r',label='line')\n",
    "plt.title('Scatter graph with line with Ridge regularization')\n",
    "plt.legend(loc='upper left')\n",
    "plt.show()\n",
    "print(cost(train_x, train_y, theta), 'RMSE Testing set Regression')\n",
    "print('-------------------------------------------')"
   ]
  },
  {
   "cell_type": "code",
   "execution_count": 12,
   "metadata": {
    "ExecuteTime": {
     "end_time": "2019-09-01T19:34:56.806252Z",
     "start_time": "2019-09-01T19:34:50.583719Z"
    }
   },
   "outputs": [
    {
     "name": "stderr",
     "output_type": "stream",
     "text": [
      "/home/hav0k/.local/lib/python3.7/site-packages/sklearn/model_selection/_search.py:814: DeprecationWarning: The default of the `iid` parameter will change from True to False in version 0.22 and will be removed in 0.24. This will change numeric results when test-set sizes are unequal.\n",
      "  DeprecationWarning)\n"
     ]
    },
    {
     "name": "stdout",
     "output_type": "stream",
     "text": [
      "0.0001\n",
      "Parameter vector Regression =>\n",
      "[[4.5614657 ]\n",
      " [4.56929097]]\n"
     ]
    },
    {
     "data": {
      "image/png": "[encoded data removed]",
      "text/plain": [
       "<Figure size 432x288 with 1 Axes>"
      ]
     },
     "metadata": {
      "needs_background": "light"
     },
     "output_type": "display_data"
    },
    {
     "name": "stdout",
     "output_type": "stream",
     "text": [
      "32.816819467350726 RMSE Testing set Regression\n",
      "-------------------------------------------\n"
     ]
    }
   ],
   "source": [
    "alphas = np.logspace(-4,0,1000)\n",
    "model = Lasso()\n",
    "grid = GridSearchCV(estimator=model,param_grid=dict(alpha=alphas),cv=3)\n",
    "grid.fit(x1,y)\n",
    "alpha = grid.best_estimator_.alpha\n",
    "print(alpha)\n",
    "theta = regression_lasso_l1(train_x, train_y, alpha,0.001,100000)\n",
    "print('Parameter vector Regression =>')\n",
    "print(theta.T)\n",
    "line = [0]*105\n",
    "for i in range(105):\n",
    "    line[i] = theta[0,1] + i*theta[0,0]\n",
    "plt.scatter(x1,y,label='data point',alpha=.4,color='black',s=20)\n",
    "plt.plot(line,'-r',label='line')\n",
    "plt.title('Scatter graph with line with regularization')\n",
    "plt.legend(loc='upper left')\n",
    "plt.show()\n",
    "print(cost(train_x, train_y, theta), 'RMSE Testing set Regression')\n",
    "print('-------------------------------------------')"
   ]
  },
  {
   "cell_type": "code",
   "execution_count": null,
   "metadata": {},
   "outputs": [],
   "source": []
  }
 ],
 "metadata": {
  "kernelspec": {
   "display_name": "Python 3",
   "language": "python",
   "name": "python3"
  },
  "language_info": {
   "codemirror_mode": {
    "name": "ipython",
    "version": 3
   },
   "file_extension": ".py",
   "mimetype": "text/x-python",
   "name": "python",
   "nbconvert_exporter": "python",
   "pygments_lexer": "ipython3",
   "version": "3.7.3"
  },
  "varInspector": {
   "cols": {
    "lenName": 16,
    "lenType": 16,
    "lenVar": 40
   },
   "kernels_config": {
    "python": {
     "delete_cmd_postfix": "",
     "delete_cmd_prefix": "del ",
     "library": "var_list.py",
     "varRefreshCmd": "print(var_dic_list())"
    },
    "r": {
     "delete_cmd_postfix": ") ",
     "delete_cmd_prefix": "rm(",
     "library": "var_list.r",
     "varRefreshCmd": "cat(var_dic_list()) "
    }
   },
   "oldHeight": 122,
   "position": {
    "height": "40px",
    "left": "1582px",
    "right": "20px",
    "top": "120px",
    "width": "250px"
   },
   "types_to_exclude": [
    "module",
    "function",
    "builtin_function_or_method",
    "instance",
    "_Feature"
   ],
   "varInspector_section_display": "none",
   "window_display": false
  }
 },
 "nbformat": 4,
 "nbformat_minor": 2
}
