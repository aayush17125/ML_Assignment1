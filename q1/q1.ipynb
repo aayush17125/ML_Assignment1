{
 "cells": [
  {
   "cell_type": "code",
   "execution_count": 1,
   "metadata": {
    "ExecuteTime": {
     "end_time": "2019-09-01T10:05:17.667470Z",
     "start_time": "2019-09-01T10:05:16.954329Z"
    }
   },
   "outputs": [],
   "source": [
    "import numpy as np\n",
    "import matplotlib.pyplot as plt\n",
    "import math\n",
    "import random"
   ]
  },
  {
   "cell_type": "code",
   "execution_count": 2,
   "metadata": {
    "ExecuteTime": {
     "end_time": "2019-09-01T10:05:17.719258Z",
     "start_time": "2019-09-01T10:05:17.669097Z"
    }
   },
   "outputs": [],
   "source": [
    "#data preprocessing (randomisation+normalisation)\n",
    "f = open('Dataset_q1.data', 'r')\n",
    "f1 = f.readlines()\n",
    "random.shuffle(f1)\n",
    "n = len(f1)\n",
    "x = []\n",
    "y = []\n",
    "p = 0\n",
    "# infant =0 male = 2 female =1 infant =0\n",
    "for i in f1:\n",
    "    p = i.split()\n",
    "    if (p[0] == 'M'):\n",
    "        p[0] = 2\n",
    "    elif (p[0] == 'F'):\n",
    "        p[0] = 1\n",
    "    elif (p[0] == 'I'):\n",
    "        p[0] = 0\n",
    "    y.append([int(p[-1])])\n",
    "    p = p[:-1]\n",
    "    x.append([1] + list(map(float, p)))  # this to for x0 to be 1\n",
    "\n",
    "max_val = [0]*len(x[0])\n",
    "for i in range(len(x)):\n",
    "        for j in range(len(x[i])):\n",
    "            max_val[j] = max(max_val[j],x[i][j])\n",
    "for i in range(len(x)):\n",
    "    for j in range(len(x[i])):\n",
    "        x[i][j] = x[i][j]/max_val[j]\n",
    "# x = np.asmatrix(x)\n",
    "# y = np.asmatrix(y)\n",
    "alpha = 0.1  # learning rate"
   ]
  },
  {
   "cell_type": "code",
   "execution_count": 3,
   "metadata": {
    "ExecuteTime": {
     "end_time": "2019-09-01T10:05:17.780905Z",
     "start_time": "2019-09-01T10:05:17.720582Z"
    }
   },
   "outputs": [],
   "source": [
    "def regression(x, y, alpha):\n",
    "    epoch = 10000\n",
    "    rms_arr = [0] * epoch\n",
    "    theta = np.zeros((1, 9))\n",
    "    for i in range(9):\n",
    "        theta[0, i] = 2\n",
    "    y = np.reshape(y, (-1, 1))\n",
    "    for k in range(epoch):\n",
    "        b = x @ theta.T\n",
    "        c = b - y\n",
    "        ss = np.sum(x * c, axis=0)\n",
    "        theta -= (alpha * ss / x.shape[0])\n",
    "        rms_arr[k] = cost(x, y, theta)\n",
    "    \n",
    "    plt.plot(rms_arr)\n",
    "    plt.show()\n",
    "    return theta,rms_arr[-1]"
   ]
  },
  {
   "cell_type": "code",
   "execution_count": null,
   "metadata": {},
   "outputs": [],
   "source": []
  },
  {
   "cell_type": "code",
   "execution_count": 4,
   "metadata": {
    "ExecuteTime": {
     "end_time": "2019-09-01T10:05:17.927282Z",
     "start_time": "2019-09-01T10:05:17.782869Z"
    }
   },
   "outputs": [],
   "source": [
    "def cost(x, y, theta):\n",
    "    y = np.reshape(y, (-1, 1))\n",
    "    return math.sqrt(np.sum(np.power(((x @ theta.T) - y), 2)) / float(len(x)))"
   ]
  },
  {
   "cell_type": "code",
   "execution_count": 5,
   "metadata": {
    "ExecuteTime": {
     "end_time": "2019-09-01T10:05:18.033035Z",
     "start_time": "2019-09-01T10:05:17.930590Z"
    }
   },
   "outputs": [],
   "source": [
    "#implementing 5-fold\n",
    "testing_x = []\n",
    "training_x = []\n",
    "testing_y = []\n",
    "training_y = []\n",
    "k = 5  # folds\n",
    "fold_size = int(len(x) / k)\n",
    "for i in range(k):\n",
    "    test_x = []\n",
    "    test_y = []\n",
    "    train_x = []\n",
    "    train_y = []\n",
    "    for j in range(len(x)):\n",
    "        if (j >= (i * fold_size) and j < ((i + 1) * fold_size)):\n",
    "            test_x.append(x[j])\n",
    "            test_y.append(y[j])\n",
    "        else:\n",
    "            train_x.append(x[j])\n",
    "            train_y.append(y[j])\n",
    "    testing_x.append(test_x)\n",
    "    testing_y.append(test_y)\n",
    "    training_x.append(train_x)\n",
    "    training_y.append(train_y)"
   ]
  },
  {
   "cell_type": "code",
   "execution_count": 6,
   "metadata": {
    "ExecuteTime": {
     "end_time": "2019-09-01T10:05:42.385984Z",
     "start_time": "2019-09-01T10:05:18.036824Z"
    },
    "scrolled": false
   },
   "outputs": [
    {
     "data": {
      "image/png": "[encoded data removed]",
      "text/plain": [
       "<Figure size 432x288 with 1 Axes>"
      ]
     },
     "metadata": {
      "needs_background": "light"
     },
     "output_type": "display_data"
    },
    {
     "name": "stdout",
     "output_type": "stream",
     "text": [
      "Parameter vector Regression =>\n",
      "[[  2.82366496]\n",
      " [  0.78451509]\n",
      " [  2.36790205]\n",
      " [  5.96523496]\n",
      " [  6.70412636]\n",
      " [  4.00699415]\n",
      " [-17.86181472]\n",
      " [ -1.62630785]\n",
      " [ 17.36675286]]\n",
      "2.2164752298497836 RMSE Training set Regrssion\n",
      "2.3020284594938447 RMSE Testing set Regrssion\n",
      "Parameter vector Normal eqn =>\n",
      "[[  2.83508285]\n",
      " [  0.73450109]\n",
      " [  0.04054569]\n",
      " [  7.69352664]\n",
      " [ 11.42070251]\n",
      " [ 22.71633657]\n",
      " [-29.14571705]\n",
      " [ -6.28481642]\n",
      " [  9.75561755]]\n",
      "2.1867473216103797 RMSE Training set Normal Eqn\n",
      "2.2457895567483894 RMSE Testing set Normal Eqn\n",
      "-------------------------------------------\n"
     ]
    },
    {
     "data": {
      "image/png": "[encoded data removed]",
      "text/plain": [
       "<Figure size 432x288 with 1 Axes>"
      ]
     },
     "metadata": {
      "needs_background": "light"
     },
     "output_type": "display_data"
    },
    {
     "name": "stdout",
     "output_type": "stream",
     "text": [
      "Parameter vector Regression =>\n",
      "[[  2.92983927]\n",
      " [  0.86195539]\n",
      " [  1.97984299]\n",
      " [  6.02173977]\n",
      " [  6.61906483]\n",
      " [  4.66589251]\n",
      " [-17.67965236]\n",
      " [ -2.43584869]\n",
      " [ 17.51680006]]\n",
      "2.221418329109552 RMSE Training set Regrssion\n",
      "2.2754329646467997 RMSE Testing set Regrssion\n",
      "Parameter vector Normal eqn =>\n",
      "[[  3.00284477]\n",
      " [  0.80086295]\n",
      " [ -0.6980653 ]\n",
      " [  7.99474733]\n",
      " [ 11.43545925]\n",
      " [ 28.95446329]\n",
      " [-31.81009125]\n",
      " [ -9.02291041]\n",
      " [  7.85011574]]\n",
      "2.179275654667055 RMSE Training set Normal Eqn\n",
      "2.2742351831850565 RMSE Testing set Normal Eqn\n",
      "-------------------------------------------\n"
     ]
    },
    {
     "data": {
      "image/png": "[encoded data removed]",
      "text/plain": [
       "<Figure size 432x288 with 1 Axes>"
      ]
     },
     "metadata": {
      "needs_background": "light"
     },
     "output_type": "display_data"
    },
    {
     "name": "stdout",
     "output_type": "stream",
     "text": [
      "Parameter vector Regression =>\n",
      "[[  2.93966039]\n",
      " [  0.87611002]\n",
      " [  1.91249003]\n",
      " [  6.11957972]\n",
      " [  6.8384762 ]\n",
      " [  4.17066964]\n",
      " [-17.42951827]\n",
      " [ -2.21214163]\n",
      " [ 17.44213393]]\n",
      "2.2631070143493575 RMSE Training set Regrssion\n",
      "2.112154957707168 RMSE Testing set Regrssion\n",
      "Parameter vector Normal eqn =>\n",
      "[[  2.96000219]\n",
      " [  0.82149533]\n",
      " [ -0.94766097]\n",
      " [  8.35839115]\n",
      " [ 11.85906639]\n",
      " [ 25.90626671]\n",
      " [-30.00689017]\n",
      " [ -8.02257115]\n",
      " [  8.45372914]]\n",
      "2.228573210771356 RMSE Training set Normal Eqn\n",
      "2.0700711725910823 RMSE Testing set Normal Eqn\n",
      "-------------------------------------------\n"
     ]
    },
    {
     "data": {
      "image/png": "[encoded data removed]",
      "text/plain": [
       "<Figure size 432x288 with 1 Axes>"
      ]
     },
     "metadata": {
      "needs_background": "light"
     },
     "output_type": "display_data"
    },
    {
     "name": "stdout",
     "output_type": "stream",
     "text": [
      "Parameter vector Regression =>\n",
      "[[  3.08880481]\n",
      " [  0.84511773]\n",
      " [  1.82352678]\n",
      " [  5.59097172]\n",
      " [  7.73067228]\n",
      " [  4.54349193]\n",
      " [-17.52587326]\n",
      " [ -2.0676619 ]\n",
      " [ 17.5168784 ]]\n",
      "2.25513524650131 RMSE Training set Regrssion\n",
      "2.136020485537158 RMSE Testing set Regrssion\n",
      "Parameter vector Normal eqn =>\n",
      "[[  2.83962291]\n",
      " [  0.77028593]\n",
      " [ -0.94782275]\n",
      " [  6.33384708]\n",
      " [ 24.34971745]\n",
      " [ 24.55746902]\n",
      " [-28.71784001]\n",
      " [ -7.95963452]\n",
      " [  8.19022199]]\n",
      "2.2132135882850146 RMSE Training set Normal Eqn\n",
      "2.1955622117832543 RMSE Testing set Normal Eqn\n",
      "-------------------------------------------\n"
     ]
    },
    {
     "data": {
      "image/png": "[encoded data removed]",
      "text/plain": [
       "<Figure size 432x288 with 1 Axes>"
      ]
     },
     "metadata": {
      "needs_background": "light"
     },
     "output_type": "display_data"
    },
    {
     "name": "stdout",
     "output_type": "stream",
     "text": [
      "Parameter vector Regression =>\n",
      "[[  3.00363938]\n",
      " [  0.78234967]\n",
      " [  1.81846756]\n",
      " [  5.91844248]\n",
      " [  6.29451301]\n",
      " [  4.7973662 ]\n",
      " [-17.52765473]\n",
      " [ -1.92237344]\n",
      " [ 17.4176732 ]]\n",
      "2.2072048634421333 RMSE Training set Regrssion\n",
      "2.335671535074897 RMSE Testing set Regrssion\n",
      "Parameter vector Normal eqn =>\n",
      "[[  3.12646474]\n",
      " [  0.73771809]\n",
      " [ -0.9353935 ]\n",
      " [  7.90354384]\n",
      " [ 10.4573172 ]\n",
      " [ 26.63179181]\n",
      " [-30.159918  ]\n",
      " [ -7.702799  ]\n",
      " [  8.71517522]]\n",
      "2.1706840294107645 RMSE Training set Normal Eqn\n",
      "2.307011270592964 RMSE Testing set Normal Eqn\n",
      "-------------------------------------------\n"
     ]
    }
   ],
   "source": [
    "for i in range(5):  # change to 5\n",
    "    train_x = np.asarray(training_x[i])\n",
    "    test_x = np.asarray(testing_x[i])\n",
    "    train_y = np.asarray(training_y[i])\n",
    "    test_y = np.asarray(testing_y[i])\n",
    "    theta,rms_err = regression(train_x, train_y, alpha)\n",
    "    print('Parameter vector Regression =>')\n",
    "    print(theta.T)\n",
    "    print(rms_err, 'RMSE Training set Regrssion')\n",
    "    print(cost(test_x, test_y, theta), 'RMSE Testing set Regrssion')\n",
    "    #normal equation\n",
    "    theta1 = ((np.linalg.inv(train_x.T @ train_x))@(train_x.T @ train_y)).T\n",
    "    print('Parameter vector Normal eqn =>')\n",
    "    print(theta1.T)\n",
    "    print(cost(train_x,train_y,theta1),'RMSE Training set Normal Eqn')\n",
    "    print(cost(test_x,test_y,theta1),'RMSE Testing set Normal Eqn')\n",
    "    print('-------------------------------------------')"
   ]
  }
 ],
 "metadata": {
  "kernelspec": {
   "display_name": "Python 3",
   "language": "python",
   "name": "python3"
  },
  "language_info": {
   "codemirror_mode": {
    "name": "ipython",
    "version": 3
   },
   "file_extension": ".py",
   "mimetype": "text/x-python",
   "name": "python",
   "nbconvert_exporter": "python",
   "pygments_lexer": "ipython3",
   "version": "3.7.3"
  },
  "varInspector": {
   "cols": {
    "lenName": 16,
    "lenType": 16,
    "lenVar": 40
   },
   "kernels_config": {
    "python": {
     "delete_cmd_postfix": "",
     "delete_cmd_prefix": "del ",
     "library": "var_list.py",
     "varRefreshCmd": "print(var_dic_list())"
    },
    "r": {
     "delete_cmd_postfix": ") ",
     "delete_cmd_prefix": "rm(",
     "library": "var_list.r",
     "varRefreshCmd": "cat(var_dic_list()) "
    }
   },
   "oldHeight": 122,
   "position": {
    "height": "40px",
    "left": "1582px",
    "right": "20px",
    "top": "120px",
    "width": "250px"
   },
   "types_to_exclude": [
    "module",
    "function",
    "builtin_function_or_method",
    "instance",
    "_Feature"
   ],
   "varInspector_section_display": "none",
   "window_display": true
  }
 },
 "nbformat": 4,
 "nbformat_minor": 2
}
