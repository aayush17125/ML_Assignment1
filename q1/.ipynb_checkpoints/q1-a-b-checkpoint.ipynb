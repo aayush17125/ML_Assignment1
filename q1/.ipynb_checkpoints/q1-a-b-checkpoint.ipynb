{
 "cells": [
  {
   "cell_type": "code",
   "execution_count": 23,
   "metadata": {
    "ExecuteTime": {
     "end_time": "2019-09-02T18:32:57.238691Z",
     "start_time": "2019-09-02T18:32:57.229133Z"
    }
   },
   "outputs": [],
   "source": [
    "import numpy as np\n",
    "import matplotlib.pyplot as plt\n",
    "import math\n",
    "import random\n",
    "from sklearn.linear_model import Ridge, Lasso\n",
    "from sklearn.model_selection import GridSearchCV\n",
    "from sklearn.model_selection import cross_val_score \n",
    "from statistics import mean "
   ]
  },
  {
   "cell_type": "code",
   "execution_count": 24,
   "metadata": {
    "ExecuteTime": {
     "end_time": "2019-09-02T18:32:57.368174Z",
     "start_time": "2019-09-02T18:32:57.249089Z"
    }
   },
   "outputs": [],
   "source": [
    "#data preprocessing (randomisation+normalisation)\n",
    "f = open('Dataset_q1.data', 'r')\n",
    "f1 = f.readlines()\n",
    "random.shuffle(f1)\n",
    "n = len(f1)\n",
    "x = []\n",
    "y = []\n",
    "p = 0\n",
    "# infant =0 male = 2 female =1\n",
    "for i in f1:\n",
    "    p = i.split()\n",
    "    if (p[0] == 'M'):\n",
    "        p[0] = 2\n",
    "    elif (p[0] == 'F'):\n",
    "        p[0] = 1\n",
    "    elif (p[0] == 'I'):\n",
    "        p[0] = 0\n",
    "    y.append([float(p[-1])])\n",
    "    p = p[:-1]\n",
    "    x.append([1] + list(map(float, p)))  # this to for x0 to be 1\n",
    "max_val = [0]*len(x[0])\n",
    "for i in range(len(x)):\n",
    "        for j in range(len(x[i])):\n",
    "            max_val[j] = max(max_val[j],x[i][j])\n",
    "for i in range(len(x)):\n",
    "    for j in range(len(x[i])):\n",
    "        x[i][j] = x[i][j]/max_val[j]\n",
    "# x = np.asmatrix(x)\n",
    "# y = np.asmatrix(y)"
   ]
  },
  {
   "cell_type": "code",
   "execution_count": 25,
   "metadata": {
    "ExecuteTime": {
     "end_time": "2019-09-02T18:32:57.466959Z",
     "start_time": "2019-09-02T18:32:57.369659Z"
    }
   },
   "outputs": [],
   "source": [
    "def regression(x, y, alpha,x_val,y_val):\n",
    "    epoch = 100000\n",
    "    rms_arr = [0] * epoch\n",
    "    rms_validation = [0]*epoch\n",
    "    theta = np.zeros((1, 9))\n",
    "    for i in range(9):\n",
    "        theta[0, i] = 2\n",
    "    y = np.reshape(y, (-1, 1))\n",
    "    for k in range(epoch):\n",
    "        b = x @ theta.T\n",
    "        c = b - y\n",
    "        ss = np.sum(x * c, axis=0)\n",
    "        theta -= (alpha * ss / x.shape[0])\n",
    "        rms_arr[k] = cost(x, y, theta)\n",
    "        rms_validation[k] = cost(x_val,y_val,theta)\n",
    "#     plt.plot(rms_arr)\n",
    "#     plt.title('RMSE vs epoch for Training set')\n",
    "#     plt.ylabel('RMSE')\n",
    "#     plt.xlabel('epoch')\n",
    "#     plt.show()\n",
    "#     plt.plot(rms_validation)\n",
    "#     plt.title('RMSE vs epoch for Validation set')\n",
    "#     plt.ylabel('RMSE')\n",
    "#     plt.xlabel('epoch')\n",
    "#     plt.show()\n",
    "    return theta,rms_arr[-1],rms_arr,rms_validation"
   ]
  },
  {
   "cell_type": "code",
   "execution_count": 26,
   "metadata": {
    "ExecuteTime": {
     "end_time": "2019-09-02T18:32:57.549687Z",
     "start_time": "2019-09-02T18:32:57.475070Z"
    }
   },
   "outputs": [],
   "source": [
    "def cost(x, y, theta):\n",
    "    y = np.reshape(y, (-1, 1))\n",
    "    arr = np.power(((x @ theta.T) - y), 2)\n",
    "    return math.sqrt( np.sum(arr) / float(len(x)))"
   ]
  },
  {
   "cell_type": "code",
   "execution_count": 27,
   "metadata": {
    "ExecuteTime": {
     "end_time": "2019-09-02T18:32:57.634868Z",
     "start_time": "2019-09-02T18:32:57.556590Z"
    }
   },
   "outputs": [],
   "source": [
    "def cost_validation(x, y, theta):\n",
    "    y = np.reshape(y, (-1, 1))\n",
    "    arr1 = (x@ theta.T)-y\n",
    "    plt.plot(abs(arr1))\n",
    "    plt.show()\n",
    "    arr = np.power((arr1), 2)\n",
    "    return math.sqrt( np.sum(arr) / float(len(x)))"
   ]
  },
  {
   "cell_type": "code",
   "execution_count": 28,
   "metadata": {
    "ExecuteTime": {
     "end_time": "2019-09-02T18:32:57.767071Z",
     "start_time": "2019-09-02T18:32:57.636797Z"
    }
   },
   "outputs": [],
   "source": [
    "#implementing 5-fold\n",
    "testing_x = []\n",
    "training_x = []\n",
    "testing_y = []\n",
    "training_y = []\n",
    "k = 5  # folds\n",
    "fold_size = int(len(x) / k)\n",
    "for i in range(k):\n",
    "    test_x = []\n",
    "    test_y = []\n",
    "    train_x = []\n",
    "    train_y = []\n",
    "    for j in range(len(x)):\n",
    "        if (j >= (i * fold_size) and j < ((i + 1) * fold_size)):\n",
    "            test_x.append(x[j])\n",
    "            test_y.append(y[j])\n",
    "        else:\n",
    "            train_x.append(x[j])\n",
    "            train_y.append(y[j])\n",
    "    testing_x.append(test_x)\n",
    "    testing_y.append(test_y)\n",
    "    training_x.append(train_x)\n",
    "    training_y.append(train_y)"
   ]
  },
  {
   "cell_type": "code",
   "execution_count": 29,
   "metadata": {
    "ExecuteTime": {
     "end_time": "2019-09-02T18:32:57.887882Z",
     "start_time": "2019-09-02T18:32:57.770528Z"
    }
   },
   "outputs": [],
   "source": [
    "alpha = 0.1  # learning rate"
   ]
  },
  {
   "cell_type": "code",
   "execution_count": 30,
   "metadata": {
    "ExecuteTime": {
     "end_time": "2019-09-02T18:38:21.672079Z",
     "start_time": "2019-09-02T18:32:57.893322Z"
    },
    "scrolled": true
   },
   "outputs": [
    {
     "name": "stdout",
     "output_type": "stream",
     "text": [
      "Parameter vector Regression =>\n",
      "[[  3.00235508]\n",
      " [  0.8075317 ]\n",
      " [ -0.340897  ]\n",
      " [  7.56673228]\n",
      " [ 11.84625995]\n",
      " [ 22.49669277]\n",
      " [-28.33658485]\n",
      " [ -6.98454116]\n",
      " [ 10.34023356]]\n",
      "2.1807584824903565 RMSE Training set Regression\n",
      "2.2681831145572993 RMSE Testing set Regression\n",
      "Parameter vector Normal eqn =>\n",
      "[[  2.99403375]\n",
      " [  0.80182442]\n",
      " [ -0.46868564]\n",
      " [  7.75317174]\n",
      " [ 11.93516772]\n",
      " [ 27.51244902]\n",
      " [-30.8941011 ]\n",
      " [ -8.41486416]\n",
      " [  8.03369258]]\n",
      "2.179232000076513 RMSE Training set Normal Eqn\n",
      "2.2719969923252226 RMSE Testing set Normal Eqn\n",
      "-------------------------------------------\n",
      "Parameter vector Regression =>\n",
      "[[  3.07482885]\n",
      " [  0.7512465 ]\n",
      " [ -0.91498048]\n",
      " [  7.93575931]\n",
      " [ 11.34710265]\n",
      " [ 21.1055935 ]\n",
      " [-27.66403196]\n",
      " [ -5.79177949]\n",
      " [ 10.69990615]]\n",
      "2.230182766074815 RMSE Training set Regression\n",
      "2.07083438126306 RMSE Testing set Regression\n",
      "Parameter vector Normal eqn =>\n",
      "[[  3.074147  ]\n",
      " [  0.7463214 ]\n",
      " [ -1.01299075]\n",
      " [  8.08009488]\n",
      " [ 11.37087383]\n",
      " [ 25.12758487]\n",
      " [-29.69605149]\n",
      " [ -6.94583054]\n",
      " [  8.84158906]]\n",
      "2.2291560172439073 RMSE Training set Normal Eqn\n",
      "2.0683567254880346 RMSE Testing set Normal Eqn\n",
      "-------------------------------------------\n",
      "Parameter vector Regression =>\n",
      "[[  2.81812709]\n",
      " [  0.81672425]\n",
      " [ -1.88158794]\n",
      " [  7.94425535]\n",
      " [ 20.22635482]\n",
      " [ 22.42330254]\n",
      " [-28.60409572]\n",
      " [ -7.37582573]\n",
      " [ 10.54130942]]\n",
      "2.184966932006129 RMSE Training set Regression\n",
      "2.279096289630302 RMSE Testing set Regression\n",
      "Parameter vector Normal eqn =>\n",
      "[[  2.73642819]\n",
      " [  0.80761044]\n",
      " [ -1.94343978]\n",
      " [  7.83155289]\n",
      " [ 22.6988885 ]\n",
      " [ 27.35892789]\n",
      " [-31.09365189]\n",
      " [ -8.83660736]\n",
      " [  7.98242026]]\n",
      "2.1831685585886174 RMSE Training set Normal Eqn\n",
      "2.302085045790211 RMSE Testing set Normal Eqn\n",
      "-------------------------------------------\n",
      "Parameter vector Regression =>\n",
      "[[  2.97591682]\n",
      " [  0.74126728]\n",
      " [  0.06634415]\n",
      " [  7.19370488]\n",
      " [ 11.51414694]\n",
      " [ 20.5443652 ]\n",
      " [-27.26275235]\n",
      " [ -6.46872647]\n",
      " [ 11.16490473]]\n",
      "2.1903744885612424 RMSE Training set Regression\n",
      "2.237151786660814 RMSE Testing set Regression\n",
      "Parameter vector Normal eqn =>\n",
      "[[  2.96020718]\n",
      " [  0.73776582]\n",
      " [  0.1529572 ]\n",
      " [  7.1626066 ]\n",
      " [ 11.62374023]\n",
      " [ 24.38812423]\n",
      " [-29.23263491]\n",
      " [ -7.5992685 ]\n",
      " [  9.42187787]]\n",
      "2.1894068395718014 RMSE Training set Normal Eqn\n",
      "2.2332234837831977 RMSE Testing set Normal Eqn\n",
      "-------------------------------------------\n",
      "Parameter vector Regression =>\n",
      "[[  3.04288248]\n",
      " [  0.78134452]\n",
      " [ -0.35287998]\n",
      " [  7.64276341]\n",
      " [ 10.70883467]\n",
      " [ 20.26621277]\n",
      " [-26.80419635]\n",
      " [ -5.96228368]\n",
      " [ 10.65521093]]\n",
      "2.1987723939081945 RMSE Training set Regression\n",
      "2.205449573988106 RMSE Testing set Regression\n",
      "Parameter vector Normal eqn =>\n",
      "[[  3.02835335]\n",
      " [  0.77457895]\n",
      " [ -0.42114358]\n",
      " [  7.76008595]\n",
      " [ 10.893239  ]\n",
      " [ 23.91089892]\n",
      " [-28.63836336]\n",
      " [ -7.00275949]\n",
      " [  8.91476475]]\n",
      "2.1978866279728826 RMSE Training set Normal Eqn\n",
      "2.200730591889011 RMSE Testing set Normal Eqn\n",
      "-------------------------------------------\n"
     ]
    }
   ],
   "source": [
    "min_cost = 1000000\n",
    "v = -1\n",
    "rms_arr_arr = [0]*5\n",
    "rms_validation_arr = [0]*5\n",
    "for i in range(5):  # change to 5\n",
    "    train_x = np.asarray(training_x[i])\n",
    "    test_x = np.asarray(testing_x[i])\n",
    "    train_y = np.asarray(training_y[i])\n",
    "    test_y = np.asarray(testing_y[i])\n",
    "    theta,rms_err,rms_arr_arr[i],rms_validation_arr[i] = regression(train_x, train_y, alpha,test_x,test_y)\n",
    "    print('Parameter vector Regression =>')\n",
    "    print(theta.T)\n",
    "    print(rms_err, 'RMSE Training set Regression')\n",
    "    print(cost(test_x, test_y, theta), 'RMSE Testing set Regression')\n",
    "    #normal equation\n",
    "    theta1 = ((np.linalg.inv(train_x.T @ train_x))@(train_x.T @ train_y)).T\n",
    "    print('Parameter vector Normal eqn =>')\n",
    "    print(theta1.T)\n",
    "    print(cost(train_x,train_y,theta1),'RMSE Training set Normal Eqn')\n",
    "    cost_train = cost(test_x,test_y,theta1)\n",
    "    if (cost_train<min_cost):\n",
    "        min_cost = cost_train\n",
    "        v = i\n",
    "    print((cost_train),'RMSE Testing set Normal Eqn')\n",
    "    print('-------------------------------------------')\n"
   ]
  },
  {
   "cell_type": "code",
   "execution_count": 35,
   "metadata": {
    "ExecuteTime": {
     "end_time": "2019-09-02T18:39:23.068017Z",
     "start_time": "2019-09-02T18:39:22.674724Z"
    }
   },
   "outputs": [
    {
     "name": "stdout",
     "output_type": "stream",
     "text": [
      "2.1970110126081477\n"
     ]
    },
    {
     "data": {
      "image/png": "[encoded data removed]",
      "text/plain": [
       "<Figure size 432x288 with 1 Axes>"
      ]
     },
     "metadata": {
      "needs_background": "light"
     },
     "output_type": "display_data"
    },
    {
     "name": "stdout",
     "output_type": "stream",
     "text": [
      "2.2121430292199165\n"
     ]
    },
    {
     "data": {
      "image/png": "[encoded data removed]",
      "text/plain": [
       "<Figure size 432x288 with 1 Axes>"
      ]
     },
     "metadata": {
      "needs_background": "light"
     },
     "output_type": "display_data"
    }
   ],
   "source": [
    "np_rms_arr = np.array([rms_arr_arr[0],rms_arr_arr[1],rms_arr_arr[2],rms_arr_arr[3],rms_arr_arr[4]])\n",
    "np_rms_val = np.array([rms_validation_arr[0],rms_validation_arr[1],rms_validation_arr[2],rms_validation_arr[3],rms_validation_arr[4]])\n",
    "arr_mean = np.mean(np_rms_arr,axis=0)\n",
    "val_mean = np.mean(np_rms_val,axis=0)\n",
    "plt.plot(arr_mean)\n",
    "plt.title('RMSE vs epoch for Training set')\n",
    "plt.ylabel('RMSE')\n",
    "print(arr_mean[-1])\n",
    "plt.xlabel('epoch')\n",
    "plt.show()\n",
    "plt.plot(val_mean)\n",
    "plt.title('RMSE vs epoch for Validation set')\n",
    "plt.ylabel('RMSE')\n",
    "print(val_mean[-1])\n",
    "plt.xlabel('epoch')\n",
    "plt.show()"
   ]
  },
  {
   "cell_type": "code",
   "execution_count": 47,
   "metadata": {
    "ExecuteTime": {
     "end_time": "2019-09-02T18:46:47.109608Z",
     "start_time": "2019-09-02T18:46:47.075571Z"
    }
   },
   "outputs": [],
   "source": [
    "min_RMSE_test_x = np.asarray(testing_x[v])\n",
    "min_RMSE_train_x = np.asarray(training_x[v])\n",
    "min_RMSE_test_y = np.asarray(testing_y[v])\n",
    "min_RMSE_train_y = np.asarray(training_y[v])"
   ]
  },
  {
   "cell_type": "code",
   "execution_count": 52,
   "metadata": {
    "ExecuteTime": {
     "end_time": "2019-09-02T18:52:49.315980Z",
     "start_time": "2019-09-02T18:52:49.287289Z"
    }
   },
   "outputs": [],
   "source": [
    "def regression_ridge_l2(x, y, alpha,x_val,y_val,L=0.1,epoch = 100000):\n",
    "    print(L,'L')\n",
    "    rms_arr = [0] * epoch\n",
    "    rms_validation = [0]*epoch\n",
    "    theta = np.zeros((1, 9))\n",
    "    for i in range(9):\n",
    "        theta[0, i] = 2\n",
    "    y = np.reshape(y, (-1, 1))\n",
    "    for k in range(epoch):\n",
    "        b = x @ theta.T\n",
    "        c = b - y\n",
    "        ss = np.sum(x * c, axis=0)\n",
    "        ss+= L*np.sum(theta)\n",
    "        theta -= (alpha * ss / x.shape[0])\n",
    "        rms_arr[k] = cost(x, y, theta)\n",
    "        rms_validation[k] = cost(x_val,y_val,theta)\n",
    "    plt.plot(rms_arr)\n",
    "    plt.title('RMSE vs epoch for Training set RIDGE')\n",
    "    plt.ylabel('RMSE')\n",
    "    plt.xlabel('epoch')\n",
    "    plt.show()\n",
    "    plt.plot(rms_validation)\n",
    "    plt.title('RMSE vs epoch for Testing set')\n",
    "    plt.ylabel('RMSE')\n",
    "    plt.xlabel('epoch')\n",
    "    plt.show()\n",
    "    return theta,rms_arr[-1]"
   ]
  },
  {
   "cell_type": "code",
   "execution_count": 53,
   "metadata": {
    "ExecuteTime": {
     "end_time": "2019-09-02T18:54:04.877985Z",
     "start_time": "2019-09-02T18:52:51.795889Z"
    },
    "scrolled": true
   },
   "outputs": [
    {
     "name": "stdout",
     "output_type": "stream",
     "text": [
      "0.25906778586880086 <- optimal hyperparameter\n",
      "0.25906778586880086 L\n"
     ]
    },
    {
     "data": {
      "image/png": "[encoded data removed]",
      "text/plain": [
       "<Figure size 432x288 with 1 Axes>"
      ]
     },
     "metadata": {
      "needs_background": "light"
     },
     "output_type": "display_data"
    },
    {
     "data": {
      "image/png": "[encoded data removed]",
      "text/plain": [
       "<Figure size 432x288 with 1 Axes>"
      ]
     },
     "metadata": {
      "needs_background": "light"
     },
     "output_type": "display_data"
    },
    {
     "name": "stdout",
     "output_type": "stream",
     "text": [
      "Parameter vector Regression using RIDGE =>\n",
      "[[  3.07921517]\n",
      " [  0.75930012]\n",
      " [ -0.75795706]\n",
      " [  8.2498834 ]\n",
      " [  8.84789703]\n",
      " [ 22.19859617]\n",
      " [-28.28409873]\n",
      " [ -6.10032163]\n",
      " [ 10.2926418 ]]\n",
      "2.230370059682898 RMSE Training set Regression\n",
      "2.072632967349925 RMSE Testing set Regression\n",
      "-------------------------------------------\n"
     ]
    }
   ],
   "source": [
    "alphas = np.logspace(-4,1,1000)\n",
    "model = Ridge()\n",
    "grid = GridSearchCV(estimator=model,param_grid=dict(alpha=alphas),cv=5)\n",
    "grid.fit(min_RMSE_train_x,min_RMSE_train_y)\n",
    "L = grid.best_estimator_.alpha\n",
    "print(L,'<- optimal hyperparameter')\n",
    "theta,rms_err = regression_ridge_l2(min_RMSE_train_x, min_RMSE_train_y, alpha ,min_RMSE_test_x,min_RMSE_test_y,L=L)\n",
    "print('Parameter vector Regression using RIDGE =>')\n",
    "print(theta.T)\n",
    "print(rms_err, 'RMSE Training set Regression')\n",
    "print(cost(min_RMSE_test_x, min_RMSE_test_y, theta), 'RMSE Testing set Regression')\n",
    "print('-------------------------------------------')"
   ]
  },
  {
   "cell_type": "code",
   "execution_count": 54,
   "metadata": {
    "ExecuteTime": {
     "end_time": "2019-09-02T18:54:06.214621Z",
     "start_time": "2019-09-02T18:54:06.207783Z"
    }
   },
   "outputs": [],
   "source": [
    "def regression_lasso_l1(x, y, alpha,x_val,y_val,L=0.1,epoch = 100000):\n",
    "    print(L,'L')\n",
    "    rms_arr = [0] * epoch\n",
    "    rms_validation = [0]*epoch\n",
    "    theta = np.zeros((1, 9))\n",
    "    for i in range(9):\n",
    "        theta[0, i] = 2\n",
    "    y = np.reshape(y, (-1, 1))\n",
    "    for k in range(epoch):\n",
    "        b = x @ theta.T\n",
    "        c = b - y\n",
    "        ss = np.sum(x * c, axis=0)\n",
    "        ss+= 2*L*np.sum(theta/np.abs(theta))\n",
    "        theta -= (alpha * ss / x.shape[0])\n",
    "        rms_arr[k] = cost(x, y, theta)\n",
    "        rms_validation[k] = cost(x_val,y_val,theta)\n",
    "    plt.plot(rms_arr)\n",
    "    plt.title('RMSE vs epoch for Training set LASSO')\n",
    "    plt.ylabel('RMSE')\n",
    "    plt.xlabel('epoch')\n",
    "    plt.show()\n",
    "    plt.plot(rms_validation)\n",
    "    plt.title('RMSE vs epoch for Testing set')\n",
    "    plt.ylabel('RMSE')\n",
    "    plt.xlabel('epoch')\n",
    "    plt.show()\n",
    "    return theta,rms_arr[-1]"
   ]
  },
  {
   "cell_type": "code",
   "execution_count": 55,
   "metadata": {
    "ExecuteTime": {
     "end_time": "2019-09-02T18:55:58.952338Z",
     "start_time": "2019-09-02T18:54:07.632495Z"
    },
    "scrolled": true
   },
   "outputs": [
    {
     "name": "stdout",
     "output_type": "stream",
     "text": [
      "0.0014493095741262166 <- optimal hyperparameter\n",
      "0.0014493095741262166 L\n"
     ]
    },
    {
     "data": {
      "image/png": "[encoded data removed]",
      "text/plain": [
       "<Figure size 432x288 with 1 Axes>"
      ]
     },
     "metadata": {
      "needs_background": "light"
     },
     "output_type": "display_data"
    },
    {
     "data": {
      "image/png": "[encoded data removed]",
      "text/plain": [
       "<Figure size 432x288 with 1 Axes>"
      ]
     },
     "metadata": {
      "needs_background": "light"
     },
     "output_type": "display_data"
    },
    {
     "name": "stdout",
     "output_type": "stream",
     "text": [
      "Parameter vector Regression using LASSO =>\n",
      "[[  3.07483902]\n",
      " [  0.75126117]\n",
      " [ -0.91470285]\n",
      " [  7.93635569]\n",
      " [ 11.34244873]\n",
      " [ 21.10778261]\n",
      " [-27.66526424]\n",
      " [ -5.79239466]\n",
      " [ 10.69907978]]\n",
      "2.2301817127372163 RMSE Training set Regression\n",
      "2.0708369325437035 RMSE Testing set Regression\n",
      "-------------------------------------------\n"
     ]
    }
   ],
   "source": [
    "alphas = np.logspace(-4,1,1000)\n",
    "model = Lasso()\n",
    "grid = GridSearchCV(estimator=model,param_grid=dict(alpha=alphas),cv=5)\n",
    "grid.fit(min_RMSE_train_x,min_RMSE_train_y)\n",
    "L = grid.best_estimator_.alpha\n",
    "print(L,'<- optimal hyperparameter')\n",
    "theta,rms_err = regression_lasso_l1(min_RMSE_train_x, min_RMSE_train_y, alpha,min_RMSE_test_x,min_RMSE_test_y,L=L)\n",
    "print('Parameter vector Regression using LASSO =>')\n",
    "print(theta.T)\n",
    "print(rms_err, 'RMSE Training set Regression')\n",
    "print(cost(min_RMSE_test_x, min_RMSE_test_y, theta), 'RMSE Testing set Regression')\n",
    "print('-------------------------------------------')"
   ]
  },
  {
   "cell_type": "code",
   "execution_count": 56,
   "metadata": {
    "ExecuteTime": {
     "end_time": "2019-09-02T18:56:00.422142Z",
     "start_time": "2019-09-02T18:56:00.419423Z"
    }
   },
   "outputs": [
    {
     "name": "stdout",
     "output_type": "stream",
     "text": [
      "1\n"
     ]
    }
   ],
   "source": [
    "print(v)"
   ]
  }
 ],
 "metadata": {
  "kernelspec": {
   "display_name": "Python 3",
   "language": "python",
   "name": "python3"
  },
  "language_info": {
   "codemirror_mode": {
    "name": "ipython",
    "version": 3
   },
   "file_extension": ".py",
   "mimetype": "text/x-python",
   "name": "python",
   "nbconvert_exporter": "python",
   "pygments_lexer": "ipython3",
   "version": "3.7.3"
  },
  "varInspector": {
   "cols": {
    "lenName": 16,
    "lenType": 16,
    "lenVar": 40
   },
   "kernels_config": {
    "python": {
     "delete_cmd_postfix": "",
     "delete_cmd_prefix": "del ",
     "library": "var_list.py",
     "varRefreshCmd": "print(var_dic_list())"
    },
    "r": {
     "delete_cmd_postfix": ") ",
     "delete_cmd_prefix": "rm(",
     "library": "var_list.r",
     "varRefreshCmd": "cat(var_dic_list()) "
    }
   },
   "oldHeight": 549,
   "position": {
    "height": "40px",
    "left": "1582px",
    "right": "20px",
    "top": "120px",
    "width": "250px"
   },
   "types_to_exclude": [
    "module",
    "function",
    "builtin_function_or_method",
    "instance",
    "_Feature"
   ],
   "varInspector_section_display": "none",
   "window_display": true
  }
 },
 "nbformat": 4,
 "nbformat_minor": 2
}
