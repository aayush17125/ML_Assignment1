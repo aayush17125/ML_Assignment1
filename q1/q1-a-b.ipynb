{
 "cells": [
  {
   "cell_type": "code",
   "execution_count": null,
   "metadata": {
    "ExecuteTime": {
     "end_time": "2019-09-04T21:47:54.993840Z",
     "start_time": "2019-09-04T21:47:54.239705Z"
    }
   },
   "outputs": [],
   "source": [
    "import numpy as np\n",
    "import matplotlib.pyplot as plt\n",
    "import math\n",
    "import random\n",
    "from sklearn.linear_model import Ridge, Lasso\n",
    "from sklearn.model_selection import GridSearchCV\n",
    "from sklearn.model_selection import cross_val_score \n",
    "from statistics import mean "
   ]
  },
  {
   "cell_type": "code",
   "execution_count": 2,
   "metadata": {
    "ExecuteTime": {
     "end_time": "2019-09-04T21:47:55.185513Z",
     "start_time": "2019-09-04T21:47:54.996660Z"
    }
   },
   "outputs": [],
   "source": [
    "#data preprocessing (randomisation+normalisation)\n",
    "f = open('Dataset_q1.data', 'r')\n",
    "f1 = f.readlines()\n",
    "random.shuffle(f1)\n",
    "n = len(f1)\n",
    "x = []\n",
    "y = []\n",
    "p = 0\n",
    "# infant =0 male = 2 female =1\n",
    "for i in f1:\n",
    "    p = i.split()\n",
    "    if (p[0] == 'M'):\n",
    "        p[0] = 2\n",
    "    elif (p[0] == 'F'):\n",
    "        p[0] = 1\n",
    "    elif (p[0] == 'I'):\n",
    "        p[0] = 0\n",
    "    y.append([float(p[-1])])\n",
    "    p = p[:-1]\n",
    "    x.append([1] + list(map(float, p)))  # this to for x0 to be 1\n",
    "max_val = [0]*len(x[0])\n",
    "for i in range(len(x)):\n",
    "        for j in range(len(x[i])):\n",
    "            max_val[j] = max(max_val[j],x[i][j])\n",
    "for i in range(len(x)):\n",
    "    for j in range(len(x[i])):\n",
    "        x[i][j] = x[i][j]/max_val[j]\n",
    "# x = np.asmatrix(x)\n",
    "# y = np.asmatrix(y)"
   ]
  },
  {
   "cell_type": "code",
   "execution_count": 3,
   "metadata": {
    "ExecuteTime": {
     "end_time": "2019-09-04T21:47:55.195609Z",
     "start_time": "2019-09-04T21:47:55.187925Z"
    }
   },
   "outputs": [],
   "source": [
    "def regression(x, y, alpha,x_val,y_val):\n",
    "    epoch = 100000\n",
    "    rms_arr = [0] * epoch\n",
    "    rms_validation = [0]*epoch\n",
    "    theta = np.zeros((1, 9))\n",
    "    for i in range(9):\n",
    "        theta[0, i] = 2\n",
    "    y = np.reshape(y, (-1, 1))\n",
    "    for k in range(epoch):\n",
    "        b = x @ theta.T\n",
    "        c = b - y\n",
    "        ss = np.sum(x * c, axis=0)\n",
    "        theta -= (alpha * ss / x.shape[0])\n",
    "        rms_arr[k] = cost(x, y, theta)\n",
    "        rms_validation[k] = cost(x_val,y_val,theta)\n",
    "    return theta,rms_arr[-1],rms_arr,rms_validation"
   ]
  },
  {
   "cell_type": "code",
   "execution_count": 4,
   "metadata": {
    "ExecuteTime": {
     "end_time": "2019-09-04T21:47:55.327222Z",
     "start_time": "2019-09-04T21:47:55.198198Z"
    }
   },
   "outputs": [],
   "source": [
    "def cost(x, y, theta):\n",
    "    y = np.reshape(y, (-1, 1))\n",
    "    arr = np.power(((x @ theta.T) - y), 2)\n",
    "    return math.sqrt( np.sum(arr) / float(len(x)))"
   ]
  },
  {
   "cell_type": "code",
   "execution_count": 5,
   "metadata": {
    "ExecuteTime": {
     "end_time": "2019-09-04T21:47:55.430705Z",
     "start_time": "2019-09-04T21:47:55.329689Z"
    }
   },
   "outputs": [],
   "source": [
    "def cost_validation(x, y, theta):\n",
    "    y = np.reshape(y, (-1, 1))\n",
    "    arr1 = (x@ theta.T)-y\n",
    "    plt.plot(abs(arr1))\n",
    "    plt.show()\n",
    "    arr = np.power((arr1), 2)\n",
    "    return math.sqrt( np.sum(arr) / float(len(x)))"
   ]
  },
  {
   "cell_type": "code",
   "execution_count": 6,
   "metadata": {
    "ExecuteTime": {
     "end_time": "2019-09-04T21:47:55.559000Z",
     "start_time": "2019-09-04T21:47:55.436111Z"
    }
   },
   "outputs": [],
   "source": [
    "#implementing 5-fold\n",
    "testing_x = []\n",
    "training_x = []\n",
    "testing_y = []\n",
    "training_y = []\n",
    "k = 5  # folds\n",
    "fold_size = int(len(x) / k)\n",
    "for i in range(k):\n",
    "    test_x = []\n",
    "    test_y = []\n",
    "    train_x = []\n",
    "    train_y = []\n",
    "    for j in range(len(x)):\n",
    "        if (j >= (i * fold_size) and j < ((i + 1) * fold_size)):\n",
    "            test_x.append(x[j])\n",
    "            test_y.append(y[j])\n",
    "        else:\n",
    "            train_x.append(x[j])\n",
    "            train_y.append(y[j])\n",
    "    testing_x.append(test_x)\n",
    "    testing_y.append(test_y)\n",
    "    training_x.append(train_x)\n",
    "    training_y.append(train_y)"
   ]
  },
  {
   "cell_type": "code",
   "execution_count": 7,
   "metadata": {
    "ExecuteTime": {
     "end_time": "2019-09-04T21:47:55.629708Z",
     "start_time": "2019-09-04T21:47:55.567171Z"
    }
   },
   "outputs": [],
   "source": [
    "alpha = 0.1  # learning rate"
   ]
  },
  {
   "cell_type": "code",
   "execution_count": 8,
   "metadata": {
    "ExecuteTime": {
     "end_time": "2019-09-04T21:54:30.326900Z",
     "start_time": "2019-09-04T21:47:55.639005Z"
    },
    "scrolled": true
   },
   "outputs": [
    {
     "name": "stdout",
     "output_type": "stream",
     "text": [
      "Parameter vector Regression =>\n",
      "[[  2.95800682]\n",
      " [  0.72827462]\n",
      " [ -0.27209069]\n",
      " [  7.7677054 ]\n",
      " [ 10.58733462]\n",
      " [ 19.79464094]\n",
      " [-26.76354902]\n",
      " [ -5.93716252]\n",
      " [ 11.18954024]]\n",
      "2.2068534706447704 RMSE Training set Regression\n",
      "2.1739284571294846 RMSE Testing set Regression\n",
      "Parameter vector Normal eqn =>\n",
      "[[  2.94193189]\n",
      " [  0.72400044]\n",
      " [ -0.3504174 ]\n",
      " [  7.9135749 ]\n",
      " [ 10.69943012]\n",
      " [ 23.34601827]\n",
      " [-28.55782454]\n",
      " [ -6.93637459]\n",
      " [  9.47219193]]\n",
      "2.206015227488462 RMSE Training set Normal Eqn\n",
      "2.1680210454323308 RMSE Testing set Normal Eqn\n",
      "-------------------------------------------\n",
      "Parameter vector Regression =>\n",
      "[[  3.1344746 ]\n",
      " [  0.80421636]\n",
      " [ -1.21362186]\n",
      " [  8.26208738]\n",
      " [ 10.86531849]\n",
      " [ 20.02717936]\n",
      " [-26.76685664]\n",
      " [ -5.43024925]\n",
      " [ 10.55701136]]\n",
      "2.199829236071652 RMSE Training set Regression\n",
      "2.2029706616084006 RMSE Testing set Regression\n",
      "Parameter vector Normal eqn =>\n",
      "[[  3.1264525 ]\n",
      " [  0.79998604]\n",
      " [ -1.36413705]\n",
      " [  8.4730665 ]\n",
      " [ 10.95006129]\n",
      " [ 24.01156339]\n",
      " [-28.78745317]\n",
      " [ -6.58990237]\n",
      " [  8.70332701]]\n",
      "2.1988178006033197 RMSE Training set Normal Eqn\n",
      "2.1979225048770332 RMSE Testing set Normal Eqn\n",
      "-------------------------------------------\n",
      "Parameter vector Regression =>\n",
      "[[  3.02909885]\n",
      " [  0.77068432]\n",
      " [ -1.55988069]\n",
      " [  8.93791736]\n",
      " [ 10.44689321]\n",
      " [ 23.27548118]\n",
      " [-29.30582989]\n",
      " [ -6.72862426]\n",
      " [ 10.41645831]]\n",
      "2.2070751337933587 RMSE Training set Regression\n",
      "2.1658035817025656 RMSE Testing set Regression\n",
      "Parameter vector Normal eqn =>\n",
      "[[  3.01337719]\n",
      " [  0.76326546]\n",
      " [ -1.66047719]\n",
      " [  9.10788225]\n",
      " [ 10.58328614]\n",
      " [ 27.89211092]\n",
      " [-31.67032564]\n",
      " [ -8.02294724]\n",
      " [  8.25298424]]\n",
      "2.2057209556815263 RMSE Training set Normal Eqn\n",
      "2.1711871529033187 RMSE Testing set Normal Eqn\n",
      "-------------------------------------------\n",
      "Parameter vector Regression =>\n",
      "[[  3.0536094 ]\n",
      " [  0.84437042]\n",
      " [ -0.39183383]\n",
      " [  7.37957131]\n",
      " [ 12.09600958]\n",
      " [ 21.88006429]\n",
      " [-28.12355173]\n",
      " [ -7.03870177]\n",
      " [ 10.96519187]]\n",
      "2.194998203590869 RMSE Training set Regression\n",
      "2.2141750129276034 RMSE Testing set Regression\n",
      "Parameter vector Normal eqn =>\n",
      "[[  3.0455053 ]\n",
      " [  0.83903635]\n",
      " [ -0.35890922]\n",
      " [  7.39649985]\n",
      " [ 12.18482232]\n",
      " [ 26.18944786]\n",
      " [-30.33942474]\n",
      " [ -8.28179208]\n",
      " [  9.00583974]]\n",
      "2.1938133813964207 RMSE Training set Normal Eqn\n",
      "2.214565158528943 RMSE Testing set Normal Eqn\n",
      "-------------------------------------------\n",
      "Parameter vector Regression =>\n",
      "[[  2.69788767]\n",
      " [  0.74431959]\n",
      " [  0.02786722]\n",
      " [  5.61226934]\n",
      " [ 23.99967616]\n",
      " [ 21.7834919 ]\n",
      " [-27.56338427]\n",
      " [ -7.54326226]\n",
      " [ 10.10453756]]\n",
      "2.1705952524126007 RMSE Training set Regression\n",
      "2.3607399536997993 RMSE Testing set Regression\n",
      "Parameter vector Normal eqn =>\n",
      "[[  2.60527418]\n",
      " [  0.73073629]\n",
      " [  0.04700937]\n",
      " [  5.18433037]\n",
      " [ 27.79902239]\n",
      " [ 26.57081111]\n",
      " [-29.88919035]\n",
      " [ -9.05683881]\n",
      " [  7.60099586]]\n",
      "2.1685431664068915 RMSE Training set Normal Eqn\n",
      "2.40526646507946 RMSE Testing set Normal Eqn\n",
      "-------------------------------------------\n"
     ]
    }
   ],
   "source": [
    "min_cost = 1000000\n",
    "v = -1\n",
    "rms_arr_arr = [0]*5\n",
    "rms_validation_arr = [0]*5\n",
    "for i in range(5):  # change to 5\n",
    "    train_x = np.asarray(training_x[i])\n",
    "    test_x = np.asarray(testing_x[i])\n",
    "    train_y = np.asarray(training_y[i])\n",
    "    test_y = np.asarray(testing_y[i])\n",
    "    theta,rms_err,rms_arr_arr[i],rms_validation_arr[i] = regression(train_x, train_y, alpha,test_x,test_y)\n",
    "    print('Parameter vector Regression =>')\n",
    "    print(theta.T)\n",
    "    print(rms_err, 'RMSE Training set Regression')\n",
    "    print(cost(test_x, test_y, theta), 'RMSE Testing set Regression')\n",
    "    #normal equation\n",
    "    theta1 = ((np.linalg.inv(train_x.T @ train_x))@(train_x.T @ train_y)).T\n",
    "    print('Parameter vector Normal eqn =>')\n",
    "    print(theta1.T)\n",
    "    print(cost(train_x,train_y,theta1),'RMSE Training set Normal Eqn')\n",
    "    cost_train = cost(test_x,test_y,theta1)\n",
    "    if (cost_train<min_cost):\n",
    "        min_cost = cost_train\n",
    "        v = i\n",
    "    print((cost_train),'RMSE Testing set Normal Eqn')\n",
    "    print('-------------------------------------------')\n"
   ]
  },
  {
   "cell_type": "code",
   "execution_count": 9,
   "metadata": {
    "ExecuteTime": {
     "end_time": "2019-09-04T21:54:30.717882Z",
     "start_time": "2019-09-04T21:54:30.329705Z"
    }
   },
   "outputs": [
    {
     "name": "stdout",
     "output_type": "stream",
     "text": [
      "2.1958702593026502\n"
     ]
    },
    {
     "data": {
      "image/png": "[encoded data removed]",
      "text/plain": [
       "<Figure size 432x288 with 1 Axes>"
      ]
     },
     "metadata": {
      "needs_background": "light"
     },
     "output_type": "display_data"
    },
    {
     "name": "stdout",
     "output_type": "stream",
     "text": [
      "2.2235235334135703\n"
     ]
    },
    {
     "data": {
      "image/png": "[encoded data removed]",
      "text/plain": [
       "<Figure size 432x288 with 1 Axes>"
      ]
     },
     "metadata": {
      "needs_background": "light"
     },
     "output_type": "display_data"
    }
   ],
   "source": [
    "np_rms_arr = np.array([rms_arr_arr[0],rms_arr_arr[1],rms_arr_arr[2],rms_arr_arr[3],rms_arr_arr[4]])\n",
    "np_rms_val = np.array([rms_validation_arr[0],rms_validation_arr[1],rms_validation_arr[2],rms_validation_arr[3],rms_validation_arr[4]])\n",
    "arr_mean = np.mean(np_rms_arr,axis=0)\n",
    "val_mean = np.mean(np_rms_val,axis=0)\n",
    "plt.plot(arr_mean)\n",
    "plt.title('RMSE vs epoch for Training set')\n",
    "plt.ylabel('RMSE')\n",
    "print(arr_mean[-1])\n",
    "plt.xlabel('epoch')\n",
    "plt.show()\n",
    "plt.plot(val_mean)\n",
    "plt.title('RMSE vs epoch for Validation set')\n",
    "plt.ylabel('RMSE')\n",
    "print(val_mean[-1])\n",
    "plt.xlabel('epoch')\n",
    "plt.show()"
   ]
  },
  {
   "cell_type": "code",
   "execution_count": 10,
   "metadata": {
    "ExecuteTime": {
     "end_time": "2019-09-04T21:54:30.727361Z",
     "start_time": "2019-09-04T21:54:30.719402Z"
    }
   },
   "outputs": [],
   "source": [
    "min_RMSE_test_x = np.asarray(testing_x[v])\n",
    "min_RMSE_train_x = np.asarray(training_x[v])\n",
    "min_RMSE_test_y = np.asarray(testing_y[v])\n",
    "min_RMSE_train_y = np.asarray(training_y[v])"
   ]
  },
  {
   "cell_type": "code",
   "execution_count": 11,
   "metadata": {
    "ExecuteTime": {
     "end_time": "2019-09-04T21:54:30.816354Z",
     "start_time": "2019-09-04T21:54:30.728706Z"
    }
   },
   "outputs": [],
   "source": [
    "def regression_ridge_l2(x, y, alpha,x_val,y_val,L=0.1,epoch = 100000):\n",
    "    print(L,'L')\n",
    "    rms_arr = [0] * epoch\n",
    "    rms_validation = [0]*epoch\n",
    "    theta = np.zeros((1, 9))\n",
    "    for i in range(9):\n",
    "        theta[0, i] = 2\n",
    "    y = np.reshape(y, (-1, 1))\n",
    "    for k in range(epoch):\n",
    "        b = x @ theta.T\n",
    "        c = b - y\n",
    "        ss = np.sum(x * c, axis=0) \n",
    "        ss+= L*np.sum(theta)\n",
    "        theta -= (alpha * ss)/ x.shape[0]\n",
    "        rms_arr[k] = cost(x, y, theta)\n",
    "        rms_validation[k] = cost(x_val,y_val,theta)\n",
    "    plt.plot(rms_arr)\n",
    "    plt.title('RMSE vs epoch for Training set RIDGE')\n",
    "    plt.ylabel('RMSE')\n",
    "    plt.xlabel('epoch')\n",
    "    plt.show()\n",
    "    plt.plot(rms_validation)\n",
    "    plt.title('RMSE vs epoch for Testing set')\n",
    "    plt.ylabel('RMSE')\n",
    "    plt.xlabel('epoch')\n",
    "    plt.show()\n",
    "    return theta,rms_arr[-1]"
   ]
  },
  {
   "cell_type": "code",
   "execution_count": 12,
   "metadata": {
    "ExecuteTime": {
     "end_time": "2019-09-04T21:56:22.661165Z",
     "start_time": "2019-09-04T21:54:30.819841Z"
    },
    "scrolled": true
   },
   "outputs": [
    {
     "name": "stdout",
     "output_type": "stream",
     "text": [
      "0.44019351852088745 <- optimal hyperparameter\n",
      "0.44019351852088745 L\n"
     ]
    },
    {
     "data": {
      "image/png": "[encoded data removed]",
      "text/plain": [
       "<Figure size 432x288 with 1 Axes>"
      ]
     },
     "metadata": {
      "needs_background": "light"
     },
     "output_type": "display_data"
    },
    {
     "data": {
      "image/png": "[encoded data removed]",
      "text/plain": [
       "<Figure size 432x288 with 1 Axes>"
      ]
     },
     "metadata": {
      "needs_background": "light"
     },
     "output_type": "display_data"
    },
    {
     "name": "stdout",
     "output_type": "stream",
     "text": [
      "Parameter vector Regression using RIDGE =>\n",
      "[[  2.96185112]\n",
      " [  0.74258313]\n",
      " [ -0.04661739]\n",
      " [  8.28522185]\n",
      " [  6.71291352]\n",
      " [ 21.4157853 ]\n",
      " [-27.69839588]\n",
      " [ -6.3908309 ]\n",
      " [ 10.57189997]]\n",
      "2.2078836650244607 RMSE Training set Regression\n",
      "2.1789249695444264 RMSE Testing set Regression\n",
      "-------------------------------------------\n"
     ]
    }
   ],
   "source": [
    "alphas = np.logspace(-4,1,1000)\n",
    "model = Ridge()\n",
    "grid = GridSearchCV(estimator=model,param_grid=dict(alpha=alphas),cv=5)\n",
    "grid.fit(min_RMSE_train_x,min_RMSE_train_y)\n",
    "L = grid.best_estimator_.alpha\n",
    "print(L,'<- optimal hyperparameter')\n",
    "theta,rms_err = regression_ridge_l2(min_RMSE_train_x, min_RMSE_train_y, alpha ,min_RMSE_test_x,min_RMSE_test_y,L=L)\n",
    "print('Parameter vector Regression using RIDGE =>')\n",
    "print(theta.T)\n",
    "print(rms_err, 'RMSE Training set Regression')\n",
    "print(cost(min_RMSE_test_x, min_RMSE_test_y, theta), 'RMSE Testing set Regression')\n",
    "print('-------------------------------------------')"
   ]
  },
  {
   "cell_type": "code",
   "execution_count": 13,
   "metadata": {
    "ExecuteTime": {
     "end_time": "2019-09-04T21:56:22.672210Z",
     "start_time": "2019-09-04T21:56:22.662587Z"
    }
   },
   "outputs": [],
   "source": [
    "def regression_lasso_l1(x, y, alpha,x_val,y_val,L=0.1,epoch = 100000):\n",
    "    print(L,'L')\n",
    "    rms_arr = [0] * epoch\n",
    "    rms_validation = [0]*epoch\n",
    "    theta = np.zeros((1, 9))\n",
    "    for i in range(9):\n",
    "        theta[0, i] = 2\n",
    "    y = np.reshape(y, (-1, 1))\n",
    "    for k in range(epoch):\n",
    "        b = x @ theta.T\n",
    "        c = b - y\n",
    "        ss = np.sum(x * c, axis=0)\n",
    "        ss+= 2*L*np.sum(theta/np.abs(theta))\n",
    "        theta -= (alpha * ss) / x.shape[0]\n",
    "        rms_arr[k] = cost(x, y, theta)\n",
    "        rms_validation[k] = cost(x_val,y_val,theta)\n",
    "    plt.plot(rms_arr)\n",
    "    plt.title('RMSE vs epoch for Training set LASSO')\n",
    "    plt.ylabel('RMSE')\n",
    "    plt.xlabel('epoch')\n",
    "    plt.show()\n",
    "    plt.plot(rms_validation)\n",
    "    plt.title('RMSE vs epoch for Testing set')\n",
    "    plt.ylabel('RMSE')\n",
    "    plt.xlabel('epoch')\n",
    "    plt.show()\n",
    "    return theta,rms_arr[-1]"
   ]
  },
  {
   "cell_type": "code",
   "execution_count": 14,
   "metadata": {
    "ExecuteTime": {
     "end_time": "2019-09-04T21:58:40.025394Z",
     "start_time": "2019-09-04T21:56:22.673813Z"
    },
    "scrolled": true
   },
   "outputs": [
    {
     "name": "stdout",
     "output_type": "stream",
     "text": [
      "0.002245697995539774 <- optimal hyperparameter\n",
      "0.002245697995539774 L\n"
     ]
    },
    {
     "data": {
      "image/png": "[encoded data removed]",
      "text/plain": [
       "<Figure size 432x288 with 1 Axes>"
      ]
     },
     "metadata": {
      "needs_background": "light"
     },
     "output_type": "display_data"
    },
    {
     "data": {
      "image/png": "[encoded data removed]",
      "text/plain": [
       "<Figure size 432x288 with 1 Axes>"
      ]
     },
     "metadata": {
      "needs_background": "light"
     },
     "output_type": "display_data"
    },
    {
     "name": "stdout",
     "output_type": "stream",
     "text": [
      "Parameter vector Regression using LASSO =>\n",
      "[[  2.95802823]\n",
      " [  0.72830204]\n",
      " [ -0.27169901]\n",
      " [  7.76878029]\n",
      " [ 10.57950487]\n",
      " [ 19.79827195]\n",
      " [-26.76561676]\n",
      " [ -5.93815325]\n",
      " [ 11.18815309]]\n",
      "2.2068519161941795 RMSE Training set Regression\n",
      "2.1739361122427225 RMSE Testing set Regression\n",
      "-------------------------------------------\n"
     ]
    }
   ],
   "source": [
    "alphas = np.logspace(-4,1,1000)\n",
    "model = Lasso()\n",
    "grid = GridSearchCV(estimator=model,param_grid=dict(alpha=alphas),cv=5)\n",
    "grid.fit(min_RMSE_train_x,min_RMSE_train_y)\n",
    "L = grid.best_estimator_.alpha\n",
    "print(L,'<- optimal hyperparameter')\n",
    "theta,rms_err = regression_lasso_l1(min_RMSE_train_x, min_RMSE_train_y, alpha,min_RMSE_test_x,min_RMSE_test_y,L=L)\n",
    "print('Parameter vector Regression using LASSO =>')\n",
    "print(theta.T)\n",
    "print(rms_err, 'RMSE Training set Regression')\n",
    "print(cost(min_RMSE_test_x, min_RMSE_test_y, theta), 'RMSE Testing set Regression')\n",
    "print('-------------------------------------------')"
   ]
  },
  {
   "cell_type": "code",
   "execution_count": 15,
   "metadata": {
    "ExecuteTime": {
     "end_time": "2019-09-04T21:58:40.040379Z",
     "start_time": "2019-09-04T21:58:40.035727Z"
    }
   },
   "outputs": [
    {
     "name": "stdout",
     "output_type": "stream",
     "text": [
      "0\n"
     ]
    }
   ],
   "source": [
    "print(v)"
   ]
  }
 ],
 "metadata": {
  "kernelspec": {
   "display_name": "Python 3",
   "language": "python",
   "name": "python3"
  },
  "language_info": {
   "codemirror_mode": {
    "name": "ipython",
    "version": 3
   },
   "file_extension": ".py",
   "mimetype": "text/x-python",
   "name": "python",
   "nbconvert_exporter": "python",
   "pygments_lexer": "ipython3",
   "version": "3.7.3"
  },
  "varInspector": {
   "cols": {
    "lenName": 16,
    "lenType": 16,
    "lenVar": 40
   },
   "kernels_config": {
    "python": {
     "delete_cmd_postfix": "",
     "delete_cmd_prefix": "del ",
     "library": "var_list.py",
     "varRefreshCmd": "print(var_dic_list())"
    },
    "r": {
     "delete_cmd_postfix": ") ",
     "delete_cmd_prefix": "rm(",
     "library": "var_list.r",
     "varRefreshCmd": "cat(var_dic_list()) "
    }
   },
   "oldHeight": 549,
   "position": {
    "height": "40px",
    "left": "1582px",
    "right": "20px",
    "top": "120px",
    "width": "250px"
   },
   "types_to_exclude": [
    "module",
    "function",
    "builtin_function_or_method",
    "instance",
    "_Feature"
   ],
   "varInspector_section_display": "none",
   "window_display": true
  }
 },
 "nbformat": 4,
 "nbformat_minor": 2
}
