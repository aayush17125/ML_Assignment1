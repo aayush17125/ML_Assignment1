{
 "cells": [
  {
   "cell_type": "code",
   "execution_count": 1,
   "metadata": {
    "ExecuteTime": {
     "end_time": "2019-09-04T10:50:37.333967Z",
     "start_time": "2019-09-04T10:50:36.519222Z"
    }
   },
   "outputs": [],
   "source": [
    "import numpy as np\n",
    "import matplotlib.pyplot as plt\n",
    "import math\n",
    "import random\n",
    "from sklearn.linear_model import Ridge, Lasso\n",
    "from sklearn.model_selection import GridSearchCV\n",
    "from sklearn.model_selection import cross_val_score \n",
    "from statistics import mean "
   ]
  },
  {
   "cell_type": "code",
   "execution_count": 2,
   "metadata": {
    "ExecuteTime": {
     "end_time": "2019-09-04T10:50:37.546174Z",
     "start_time": "2019-09-04T10:50:37.337628Z"
    }
   },
   "outputs": [],
   "source": [
    "#data preprocessing (randomisation+normalisation)\n",
    "f = open('Dataset_q1.data', 'r')\n",
    "f1 = f.readlines()\n",
    "random.shuffle(f1)\n",
    "n = len(f1)\n",
    "x = []\n",
    "y = []\n",
    "p = 0\n",
    "# infant =0 male = 2 female =1\n",
    "for i in f1:\n",
    "    p = i.split()\n",
    "    if (p[0] == 'M'):\n",
    "        p[0] = 2\n",
    "    elif (p[0] == 'F'):\n",
    "        p[0] = 1\n",
    "    elif (p[0] == 'I'):\n",
    "        p[0] = 0\n",
    "    y.append([float(p[-1])])\n",
    "    p = p[:-1]\n",
    "    x.append([1] + list(map(float, p)))  # this to for x0 to be 1\n",
    "max_val = [0]*len(x[0])\n",
    "for i in range(len(x)):\n",
    "        for j in range(len(x[i])):\n",
    "            max_val[j] = max(max_val[j],x[i][j])\n",
    "for i in range(len(x)):\n",
    "    for j in range(len(x[i])):\n",
    "        x[i][j] = x[i][j]/max_val[j]\n",
    "# x = np.asmatrix(x)\n",
    "# y = np.asmatrix(y)"
   ]
  },
  {
   "cell_type": "code",
   "execution_count": 3,
   "metadata": {
    "ExecuteTime": {
     "end_time": "2019-09-04T10:50:37.565825Z",
     "start_time": "2019-09-04T10:50:37.550392Z"
    }
   },
   "outputs": [],
   "source": [
    "def regression(x, y, alpha,x_val,y_val):\n",
    "    epoch = 100000\n",
    "    rms_arr = [0] * epoch\n",
    "    rms_validation = [0]*epoch\n",
    "    theta = np.zeros((1, 9))\n",
    "    for i in range(9):\n",
    "        theta[0, i] = 2\n",
    "    y = np.reshape(y, (-1, 1))\n",
    "    for k in range(epoch):\n",
    "        b = x @ theta.T\n",
    "        c = b - y\n",
    "        ss = np.sum(x * c, axis=0)\n",
    "        theta -= (alpha * ss / x.shape[0])\n",
    "        rms_arr[k] = cost(x, y, theta)\n",
    "        rms_validation[k] = cost(x_val,y_val,theta)\n",
    "#     plt.plot(rms_arr)\n",
    "#     plt.title('RMSE vs epoch for Training set')\n",
    "#     plt.ylabel('RMSE')\n",
    "#     plt.xlabel('epoch')\n",
    "#     plt.show()\n",
    "#     plt.plot(rms_validation)\n",
    "#     plt.title('RMSE vs epoch for Validation set')\n",
    "#     plt.ylabel('RMSE')\n",
    "#     plt.xlabel('epoch')\n",
    "#     plt.show()\n",
    "    return theta,rms_arr[-1],rms_arr,rms_validation"
   ]
  },
  {
   "cell_type": "code",
   "execution_count": 4,
   "metadata": {
    "ExecuteTime": {
     "end_time": "2019-09-04T10:50:37.703768Z",
     "start_time": "2019-09-04T10:50:37.569649Z"
    }
   },
   "outputs": [],
   "source": [
    "def cost(x, y, theta):\n",
    "    y = np.reshape(y, (-1, 1))\n",
    "    arr = np.power(((x @ theta.T) - y), 2)\n",
    "    return math.sqrt( np.sum(arr) / float(len(x)))"
   ]
  },
  {
   "cell_type": "code",
   "execution_count": 5,
   "metadata": {
    "ExecuteTime": {
     "end_time": "2019-09-04T10:50:37.788845Z",
     "start_time": "2019-09-04T10:50:37.707142Z"
    }
   },
   "outputs": [],
   "source": [
    "def cost_validation(x, y, theta):\n",
    "    y = np.reshape(y, (-1, 1))\n",
    "    arr1 = (x@ theta.T)-y\n",
    "    plt.plot(abs(arr1))\n",
    "    plt.show()\n",
    "    arr = np.power((arr1), 2)\n",
    "    return math.sqrt( np.sum(arr) / float(len(x)))"
   ]
  },
  {
   "cell_type": "code",
   "execution_count": 6,
   "metadata": {
    "ExecuteTime": {
     "end_time": "2019-09-04T10:50:37.896442Z",
     "start_time": "2019-09-04T10:50:37.797601Z"
    }
   },
   "outputs": [],
   "source": [
    "#implementing 5-fold\n",
    "testing_x = []\n",
    "training_x = []\n",
    "testing_y = []\n",
    "training_y = []\n",
    "k = 5  # folds\n",
    "fold_size = int(len(x) / k)\n",
    "for i in range(k):\n",
    "    test_x = []\n",
    "    test_y = []\n",
    "    train_x = []\n",
    "    train_y = []\n",
    "    for j in range(len(x)):\n",
    "        if (j >= (i * fold_size) and j < ((i + 1) * fold_size)):\n",
    "            test_x.append(x[j])\n",
    "            test_y.append(y[j])\n",
    "        else:\n",
    "            train_x.append(x[j])\n",
    "            train_y.append(y[j])\n",
    "    testing_x.append(test_x)\n",
    "    testing_y.append(test_y)\n",
    "    training_x.append(train_x)\n",
    "    training_y.append(train_y)"
   ]
  },
  {
   "cell_type": "code",
   "execution_count": 7,
   "metadata": {
    "ExecuteTime": {
     "end_time": "2019-09-04T10:50:37.965776Z",
     "start_time": "2019-09-04T10:50:37.906681Z"
    }
   },
   "outputs": [],
   "source": [
    "alpha = 0.1  # learning rate"
   ]
  },
  {
   "cell_type": "code",
   "execution_count": 8,
   "metadata": {
    "ExecuteTime": {
     "end_time": "2019-09-04T10:58:10.879040Z",
     "start_time": "2019-09-04T10:50:37.976697Z"
    },
    "scrolled": true
   },
   "outputs": [
    {
     "name": "stdout",
     "output_type": "stream",
     "text": [
      "Parameter vector Regression =>\n",
      "[[  2.91261101]\n",
      " [  0.81241535]\n",
      " [ -0.70570969]\n",
      " [  8.23544662]\n",
      " [ 10.99178655]\n",
      " [ 20.64939516]\n",
      " [-27.44762807]\n",
      " [ -6.29818376]\n",
      " [ 10.83096766]]\n",
      "2.185206442759107 RMSE Training set Regression\n",
      "2.255816018015619 RMSE Testing set Regression\n",
      "Parameter vector Normal eqn =>\n",
      "[[  2.90714015]\n",
      " [  0.80715386]\n",
      " [ -0.77497363]\n",
      " [  8.35643849]\n",
      " [ 11.05718966]\n",
      " [ 24.78900341]\n",
      " [-29.54299167]\n",
      " [ -7.46384106]\n",
      " [  8.88677681]]\n",
      "2.1841175356685447 RMSE Training set Normal Eqn\n",
      "2.252786266319094 RMSE Testing set Normal Eqn\n",
      "-------------------------------------------\n",
      "Parameter vector Regression =>\n",
      "[[  2.98405554]\n",
      " [  0.75627049]\n",
      " [ -1.30306672]\n",
      " [  8.39856305]\n",
      " [ 12.76978789]\n",
      " [ 21.31834645]\n",
      " [-27.90705655]\n",
      " [ -6.69442306]\n",
      " [ 11.06164433]]\n",
      "2.1889009425263373 RMSE Training set Regression\n",
      "2.2384257589703487 RMSE Testing set Regression\n",
      "Parameter vector Normal eqn =>\n",
      "[[  2.96561087]\n",
      " [  0.75125101]\n",
      " [ -1.35831427]\n",
      " [  8.54003686]\n",
      " [ 12.82804847]\n",
      " [ 25.59033985]\n",
      " [-30.14879757]\n",
      " [ -7.89369957]\n",
      " [  9.10170498]]\n",
      "2.1877326963233683 RMSE Training set Normal Eqn\n",
      "2.237520705188642 RMSE Testing set Normal Eqn\n",
      "-------------------------------------------\n",
      "Parameter vector Regression =>\n",
      "[[  2.81665985]\n",
      " [  0.66556512]\n",
      " [ -2.0599811 ]\n",
      " [  8.15265005]\n",
      " [ 20.68906987]\n",
      " [ 20.72267446]\n",
      " [-26.90692129]\n",
      " [ -7.22639174]\n",
      " [ 10.85489512]]\n",
      "2.2097142126381657 RMSE Training set Regression\n",
      "2.1887840485655357 RMSE Testing set Regression\n",
      "Parameter vector Normal eqn =>\n",
      "[[  2.76440726]\n",
      " [  0.65478119]\n",
      " [ -2.26644003]\n",
      " [  8.09093325]\n",
      " [ 23.20651397]\n",
      " [ 24.60575319]\n",
      " [-28.77977239]\n",
      " [ -8.46132616]\n",
      " [  8.8599828 ]]\n",
      "2.2084269983963125 RMSE Training set Normal Eqn\n",
      "2.2076439564599175 RMSE Testing set Normal Eqn\n",
      "-------------------------------------------\n",
      "Parameter vector Regression =>\n",
      "[[  3.19489278]\n",
      " [  0.80397397]\n",
      " [  0.69814184]\n",
      " [  6.20429142]\n",
      " [ 10.27709229]\n",
      " [ 23.04548802]\n",
      " [-28.32452303]\n",
      " [ -6.35160354]\n",
      " [  9.55543426]]\n",
      "2.165156164919987 RMSE Training set Regression\n",
      "2.332941039202436 RMSE Testing set Regression\n",
      "Parameter vector Normal eqn =>\n",
      "[[  3.16658635]\n",
      " [  0.80031073]\n",
      " [  0.77189546]\n",
      " [  6.22497484]\n",
      " [ 10.43177478]\n",
      " [ 28.07656622]\n",
      " [-30.84687671]\n",
      " [ -7.80507662]\n",
      " [  7.14926968]]\n",
      "2.163601262839539 RMSE Training set Normal Eqn\n",
      "2.338340091128081 RMSE Testing set Normal Eqn\n",
      "-------------------------------------------\n",
      "Parameter vector Regression =>\n",
      "[[  3.00611627]\n",
      " [  0.86790837]\n",
      " [ -0.0661925 ]\n",
      " [  7.24766389]\n",
      " [ 11.31656276]\n",
      " [ 21.24399899]\n",
      " [-28.11918851]\n",
      " [ -6.0632169 ]\n",
      " [ 10.93203111]]\n",
      "2.2339414583376236 RMSE Training set Regression\n",
      "2.0553627269911785 RMSE Testing set Regression\n",
      "Parameter vector Normal eqn =>\n",
      "[[  2.98937151]\n",
      " [  0.86213347]\n",
      " [ -0.10205373]\n",
      " [  7.34911322]\n",
      " [ 11.43923523]\n",
      " [ 25.34039362]\n",
      " [-30.23928164]\n",
      " [ -7.23067573]\n",
      " [  9.0482762 ]]\n",
      "2.232870855319423 RMSE Training set Normal Eqn\n",
      "2.0534605845034815 RMSE Testing set Normal Eqn\n",
      "-------------------------------------------\n"
     ]
    }
   ],
   "source": [
    "min_cost = 1000000\n",
    "v = -1\n",
    "rms_arr_arr = [0]*5\n",
    "rms_validation_arr = [0]*5\n",
    "for i in range(5):  # change to 5\n",
    "    train_x = np.asarray(training_x[i])\n",
    "    test_x = np.asarray(testing_x[i])\n",
    "    train_y = np.asarray(training_y[i])\n",
    "    test_y = np.asarray(testing_y[i])\n",
    "    theta,rms_err,rms_arr_arr[i],rms_validation_arr[i] = regression(train_x, train_y, alpha,test_x,test_y)\n",
    "    print('Parameter vector Regression =>')\n",
    "    print(theta.T)\n",
    "    print(rms_err, 'RMSE Training set Regression')\n",
    "    print(cost(test_x, test_y, theta), 'RMSE Testing set Regression')\n",
    "    #normal equation\n",
    "    theta1 = ((np.linalg.inv(train_x.T @ train_x))@(train_x.T @ train_y)).T\n",
    "    print('Parameter vector Normal eqn =>')\n",
    "    print(theta1.T)\n",
    "    print(cost(train_x,train_y,theta1),'RMSE Training set Normal Eqn')\n",
    "    cost_train = cost(test_x,test_y,theta1)\n",
    "    if (cost_train<min_cost):\n",
    "        min_cost = cost_train\n",
    "        v = i\n",
    "    print((cost_train),'RMSE Testing set Normal Eqn')\n",
    "    print('-------------------------------------------')\n"
   ]
  },
  {
   "cell_type": "code",
   "execution_count": 9,
   "metadata": {
    "ExecuteTime": {
     "end_time": "2019-09-04T10:58:11.332652Z",
     "start_time": "2019-09-04T10:58:10.886547Z"
    }
   },
   "outputs": [
    {
     "name": "stdout",
     "output_type": "stream",
     "text": [
      "2.1965838442362444\n"
     ]
    },
    {
     "data": {
      "image/png": "[encoded data removed]",
      "text/plain": [
       "<Figure size 432x288 with 1 Axes>"
      ]
     },
     "metadata": {
      "needs_background": "light"
     },
     "output_type": "display_data"
    },
    {
     "name": "stdout",
     "output_type": "stream",
     "text": [
      "2.2142659183490236\n"
     ]
    },
    {
     "data": {
      "image/png": "[encoded data removed]",
      "text/plain": [
       "<Figure size 432x288 with 1 Axes>"
      ]
     },
     "metadata": {
      "needs_background": "light"
     },
     "output_type": "display_data"
    }
   ],
   "source": [
    "np_rms_arr = np.array([rms_arr_arr[0],rms_arr_arr[1],rms_arr_arr[2],rms_arr_arr[3],rms_arr_arr[4]])\n",
    "np_rms_val = np.array([rms_validation_arr[0],rms_validation_arr[1],rms_validation_arr[2],rms_validation_arr[3],rms_validation_arr[4]])\n",
    "arr_mean = np.mean(np_rms_arr,axis=0)\n",
    "val_mean = np.mean(np_rms_val,axis=0)\n",
    "plt.plot(arr_mean)\n",
    "plt.title('RMSE vs epoch for Training set')\n",
    "plt.ylabel('RMSE')\n",
    "print(arr_mean[-1])\n",
    "plt.xlabel('epoch')\n",
    "plt.show()\n",
    "plt.plot(val_mean)\n",
    "plt.title('RMSE vs epoch for Validation set')\n",
    "plt.ylabel('RMSE')\n",
    "print(val_mean[-1])\n",
    "plt.xlabel('epoch')\n",
    "plt.show()"
   ]
  },
  {
   "cell_type": "code",
   "execution_count": 10,
   "metadata": {
    "ExecuteTime": {
     "end_time": "2019-09-04T10:58:11.341130Z",
     "start_time": "2019-09-04T10:58:11.334589Z"
    }
   },
   "outputs": [],
   "source": [
    "min_RMSE_test_x = np.asarray(testing_x[v])\n",
    "min_RMSE_train_x = np.asarray(training_x[v])\n",
    "min_RMSE_test_y = np.asarray(testing_y[v])\n",
    "min_RMSE_train_y = np.asarray(training_y[v])"
   ]
  },
  {
   "cell_type": "code",
   "execution_count": 11,
   "metadata": {
    "ExecuteTime": {
     "end_time": "2019-09-04T10:58:11.431313Z",
     "start_time": "2019-09-04T10:58:11.343118Z"
    }
   },
   "outputs": [],
   "source": [
    "def regression_ridge_l2(x, y, alpha,x_val,y_val,L=0.1,epoch = 100000):\n",
    "    print(L,'L')\n",
    "    rms_arr = [0] * epoch\n",
    "    rms_validation = [0]*epoch\n",
    "    theta = np.zeros((1, 9))\n",
    "    for i in range(9):\n",
    "        theta[0, i] = 2\n",
    "    y = np.reshape(y, (-1, 1))\n",
    "    for k in range(epoch):\n",
    "        b = x @ theta.T\n",
    "        c = b - y\n",
    "        ss = np.sum(x * c, axis=0) / x.shape[0]\n",
    "        ss+= L*np.sum(theta)\n",
    "        theta -= (alpha * ss)\n",
    "        rms_arr[k] = cost(x, y, theta)\n",
    "        rms_validation[k] = cost(x_val,y_val,theta)\n",
    "    plt.plot(rms_arr)\n",
    "    plt.title('RMSE vs epoch for Training set RIDGE')\n",
    "    plt.ylabel('RMSE')\n",
    "    plt.xlabel('epoch')\n",
    "    plt.show()\n",
    "    plt.plot(rms_validation)\n",
    "    plt.title('RMSE vs epoch for Testing set')\n",
    "    plt.ylabel('RMSE')\n",
    "    plt.xlabel('epoch')\n",
    "    plt.show()\n",
    "    return theta,rms_arr[-1]"
   ]
  },
  {
   "cell_type": "code",
   "execution_count": 12,
   "metadata": {
    "ExecuteTime": {
     "end_time": "2019-09-04T10:59:32.857167Z",
     "start_time": "2019-09-04T10:58:11.433962Z"
    },
    "scrolled": true
   },
   "outputs": [
    {
     "name": "stdout",
     "output_type": "stream",
     "text": [
      "0.2776153294436801 <- optimal hyperparameter\n",
      "0.2776153294436801 L\n"
     ]
    },
    {
     "data": {
      "image/png": "[encoded data removed]",
      "text/plain": [
       "<Figure size 432x288 with 1 Axes>"
      ]
     },
     "metadata": {
      "needs_background": "light"
     },
     "output_type": "display_data"
    },
    {
     "data": {
      "image/png": "[encoded data removed]",
      "text/plain": [
       "<Figure size 432x288 with 1 Axes>"
      ]
     },
     "metadata": {
      "needs_background": "light"
     },
     "output_type": "display_data"
    },
    {
     "name": "stdout",
     "output_type": "stream",
     "text": [
      "Parameter vector Regression using RIDGE =>\n",
      "[[  3.02914899]\n",
      " [  0.94524672]\n",
      " [  1.46421726]\n",
      " [  9.98894199]\n",
      " [-11.0381519 ]\n",
      " [ 31.26947458]\n",
      " [-33.95107542]\n",
      " [ -8.81295993]\n",
      " [  7.15011602]]\n",
      "2.2860863295494203 RMSE Training set Regression\n",
      "2.1028525623440664 RMSE Testing set Regression\n",
      "-------------------------------------------\n"
     ]
    }
   ],
   "source": [
    "alphas = np.logspace(-4,1,1000)\n",
    "model = Ridge()\n",
    "grid = GridSearchCV(estimator=model,param_grid=dict(alpha=alphas),cv=5)\n",
    "grid.fit(min_RMSE_train_x,min_RMSE_train_y)\n",
    "L = grid.best_estimator_.alpha\n",
    "print(L,'<- optimal hyperparameter')\n",
    "theta,rms_err = regression_ridge_l2(min_RMSE_train_x, min_RMSE_train_y, alpha ,min_RMSE_test_x,min_RMSE_test_y,L=L)\n",
    "print('Parameter vector Regression using RIDGE =>')\n",
    "print(theta.T)\n",
    "print(rms_err, 'RMSE Training set Regression')\n",
    "print(cost(min_RMSE_test_x, min_RMSE_test_y, theta), 'RMSE Testing set Regression')\n",
    "print('-------------------------------------------')"
   ]
  },
  {
   "cell_type": "code",
   "execution_count": 13,
   "metadata": {
    "ExecuteTime": {
     "end_time": "2019-09-04T10:59:32.867371Z",
     "start_time": "2019-09-04T10:59:32.859159Z"
    }
   },
   "outputs": [],
   "source": [
    "def regression_lasso_l1(x, y, alpha,x_val,y_val,L=0.1,epoch = 100000):\n",
    "    print(L,'L')\n",
    "    rms_arr = [0] * epoch\n",
    "    rms_validation = [0]*epoch\n",
    "    theta = np.zeros((1, 9))\n",
    "    for i in range(9):\n",
    "        theta[0, i] = 2\n",
    "    y = np.reshape(y, (-1, 1))\n",
    "    for k in range(epoch):\n",
    "        b = x @ theta.T\n",
    "        c = b - y\n",
    "        ss = np.sum(x * c, axis=0) / x.shape[0]\n",
    "        ss+= 2*L*np.sum(theta/np.abs(theta))\n",
    "        theta -= (alpha * ss)\n",
    "        rms_arr[k] = cost(x, y, theta)\n",
    "        rms_validation[k] = cost(x_val,y_val,theta)\n",
    "    plt.plot(rms_arr)\n",
    "    plt.title('RMSE vs epoch for Training set LASSO')\n",
    "    plt.ylabel('RMSE')\n",
    "    plt.xlabel('epoch')\n",
    "    plt.show()\n",
    "    plt.plot(rms_validation)\n",
    "    plt.title('RMSE vs epoch for Testing set')\n",
    "    plt.ylabel('RMSE')\n",
    "    plt.xlabel('epoch')\n",
    "    plt.show()\n",
    "    return theta,rms_arr[-1]"
   ]
  },
  {
   "cell_type": "code",
   "execution_count": 14,
   "metadata": {
    "ExecuteTime": {
     "end_time": "2019-09-04T11:01:15.879771Z",
     "start_time": "2019-09-04T10:59:32.869627Z"
    },
    "scrolled": true
   },
   "outputs": [
    {
     "name": "stdout",
     "output_type": "stream",
     "text": [
      "0.0016263395040481922 <- optimal hyperparameter\n",
      "0.0016263395040481922 L\n"
     ]
    },
    {
     "data": {
      "image/png": "[encoded data removed]",
      "text/plain": [
       "<Figure size 432x288 with 1 Axes>"
      ]
     },
     "metadata": {
      "needs_background": "light"
     },
     "output_type": "display_data"
    },
    {
     "data": {
      "image/png": "[encoded data removed]",
      "text/plain": [
       "<Figure size 432x288 with 1 Axes>"
      ]
     },
     "metadata": {
      "needs_background": "light"
     },
     "output_type": "display_data"
    },
    {
     "name": "stdout",
     "output_type": "stream",
     "text": [
      "Parameter vector Regression using LASSO =>\n",
      "[[  3.01371979]\n",
      " [  0.9281386 ]\n",
      " [  1.13880735]\n",
      " [  9.29119025]\n",
      " [ -5.56311732]\n",
      " [ 28.26131061]\n",
      " [-32.23966397]\n",
      " [ -8.00251894]\n",
      " [  8.30553223]]\n",
      "2.2628100167879808 RMSE Training set Regression\n",
      "2.0857584830250215 RMSE Testing set Regression\n",
      "-------------------------------------------\n"
     ]
    }
   ],
   "source": [
    "alphas = np.logspace(-4,1,1000)\n",
    "model = Lasso()\n",
    "grid = GridSearchCV(estimator=model,param_grid=dict(alpha=alphas),cv=5)\n",
    "grid.fit(min_RMSE_train_x,min_RMSE_train_y)\n",
    "L = grid.best_estimator_.alpha\n",
    "print(L,'<- optimal hyperparameter')\n",
    "theta,rms_err = regression_lasso_l1(min_RMSE_train_x, min_RMSE_train_y, alpha,min_RMSE_test_x,min_RMSE_test_y,L=L)\n",
    "print('Parameter vector Regression using LASSO =>')\n",
    "print(theta.T)\n",
    "print(rms_err, 'RMSE Training set Regression')\n",
    "print(cost(min_RMSE_test_x, min_RMSE_test_y, theta), 'RMSE Testing set Regression')\n",
    "print('-------------------------------------------')"
   ]
  },
  {
   "cell_type": "code",
   "execution_count": 15,
   "metadata": {
    "ExecuteTime": {
     "end_time": "2019-09-04T11:01:15.885216Z",
     "start_time": "2019-09-04T11:01:15.881875Z"
    }
   },
   "outputs": [
    {
     "name": "stdout",
     "output_type": "stream",
     "text": [
      "4\n"
     ]
    }
   ],
   "source": [
    "print(v)"
   ]
  }
 ],
 "metadata": {
  "kernelspec": {
   "display_name": "Python 3",
   "language": "python",
   "name": "python3"
  },
  "language_info": {
   "codemirror_mode": {
    "name": "ipython",
    "version": 3
   },
   "file_extension": ".py",
   "mimetype": "text/x-python",
   "name": "python",
   "nbconvert_exporter": "python",
   "pygments_lexer": "ipython3",
   "version": "3.7.3"
  },
  "varInspector": {
   "cols": {
    "lenName": 16,
    "lenType": 16,
    "lenVar": 40
   },
   "kernels_config": {
    "python": {
     "delete_cmd_postfix": "",
     "delete_cmd_prefix": "del ",
     "library": "var_list.py",
     "varRefreshCmd": "print(var_dic_list())"
    },
    "r": {
     "delete_cmd_postfix": ") ",
     "delete_cmd_prefix": "rm(",
     "library": "var_list.r",
     "varRefreshCmd": "cat(var_dic_list()) "
    }
   },
   "oldHeight": 549,
   "position": {
    "height": "40px",
    "left": "1582px",
    "right": "20px",
    "top": "120px",
    "width": "250px"
   },
   "types_to_exclude": [
    "module",
    "function",
    "builtin_function_or_method",
    "instance",
    "_Feature"
   ],
   "varInspector_section_display": "none",
   "window_display": true
  }
 },
 "nbformat": 4,
 "nbformat_minor": 2
}
