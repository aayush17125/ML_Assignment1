{
 "cells": [
  {
   "cell_type": "code",
   "execution_count": null,
   "metadata": {
    "ExecuteTime": {
     "end_time": "2019-09-01T18:35:56.912287Z",
     "start_time": "2019-09-01T18:35:56.569528Z"
    }
   },
   "outputs": [],
   "source": [
    "import numpy as np\n",
    "import matplotlib.pyplot as plt\n",
    "import math\n",
    "import random"
   ]
  },
  {
   "cell_type": "code",
   "execution_count": null,
   "metadata": {
    "ExecuteTime": {
     "end_time": "2019-09-01T18:35:56.953941Z",
     "start_time": "2019-09-01T18:35:56.913878Z"
    }
   },
   "outputs": [],
   "source": [
    "#data preprocessing (randomisation+normalisation)\n",
    "f = open('Dataset_q1.data', 'r')\n",
    "f1 = f.readlines()\n",
    "random.shuffle(f1)\n",
    "n = len(f1)\n",
    "x = []\n",
    "y = []\n",
    "p = 0\n",
    "# infant =0 male = 2 female =1\n",
    "for i in f1:\n",
    "    p = i.split()\n",
    "    if (p[0] == 'M'):\n",
    "        p[0] = 2\n",
    "    elif (p[0] == 'F'):\n",
    "        p[0] = 1\n",
    "    elif (p[0] == 'I'):\n",
    "        p[0] = 0\n",
    "    y.append([float(p[-1])])\n",
    "    p = p[:-1]\n",
    "    x.append([1] + list(map(float, p)))  # this to for x0 to be 1\n",
    "max_val = [0]*len(x[0])\n",
    "for i in range(len(x)):\n",
    "        for j in range(len(x[i])):\n",
    "            max_val[j] = max(max_val[j],x[i][j])\n",
    "for i in range(len(x)):\n",
    "    for j in range(len(x[i])):\n",
    "        x[i][j] = x[i][j]/max_val[j]\n",
    "# x = np.asmatrix(x)\n",
    "# y = np.asmatrix(y)"
   ]
  },
  {
   "cell_type": "code",
   "execution_count": null,
   "metadata": {
    "ExecuteTime": {
     "end_time": "2019-09-01T18:35:57.010784Z",
     "start_time": "2019-09-01T18:35:56.958523Z"
    }
   },
   "outputs": [],
   "source": [
    "def regression(x, y, alpha,x_val,y_val):\n",
    "    epoch = 100000\n",
    "    rms_arr = [0] * epoch\n",
    "    rms_validation = [0]*epoch\n",
    "    theta = np.zeros((1, 9))\n",
    "    for i in range(9):\n",
    "        theta[0, i] = 2\n",
    "    y = np.reshape(y, (-1, 1))\n",
    "    for k in range(epoch):\n",
    "        b = x @ theta.T\n",
    "        c = b - y\n",
    "        ss = np.sum(x * c, axis=0)\n",
    "        theta -= (alpha * ss / x.shape[0])\n",
    "        rms_arr[k] = cost(x, y, theta)\n",
    "        rms_validation[k] = cost(x_val,y_val,theta)\n",
    "    plt.plot(rms_arr)\n",
    "    plt.title('RMSE vs epoch for Training set')\n",
    "    plt.ylabel('RMSE')\n",
    "    plt.xlabel('epoch')\n",
    "    plt.show()\n",
    "    plt.plot(rms_validation)\n",
    "    plt.title('RMSE vs epoch for Validation set')\n",
    "    plt.ylabel('RMSE')\n",
    "    plt.xlabel('epoch')\n",
    "    plt.show()\n",
    "    return theta,rms_arr[-1]"
   ]
  },
  {
   "cell_type": "code",
   "execution_count": null,
   "metadata": {
    "ExecuteTime": {
     "end_time": "2019-09-01T18:35:57.153924Z",
     "start_time": "2019-09-01T18:35:57.021292Z"
    }
   },
   "outputs": [],
   "source": [
    "def regression_ridge_l1(x, y, alpha,x_val,y_val):\n",
    "    epoch = 100000\n",
    "    rms_arr = [0] * epoch\n",
    "    rms_validation = [0]*epoch\n",
    "    theta = np.zeros((1, 9))\n",
    "    for i in range(9):\n",
    "        theta[0, i] = 2\n",
    "    y = np.reshape(y, (-1, 1))\n",
    "    for k in range(epoch):\n",
    "        b = x @ theta.T\n",
    "        c = b - y\n",
    "        ss = np.sum(x * c, axis=0)\n",
    "        ss+= L*np.sum(theta)\n",
    "        theta -= (alpha * ss / x.shape[0])\n",
    "        rms_arr[k] = cost(x, y, theta)\n",
    "        rms_validation[k] = cost(x_val,y_val,theta)\n",
    "    plt.plot(rms_arr)\n",
    "    plt.title('RMSE vs epoch for Training set')\n",
    "    plt.ylabel('RMSE')\n",
    "    plt.xlabel('epoch')\n",
    "    plt.show()\n",
    "    plt.plot(rms_validation)\n",
    "    plt.title('RMSE vs epoch for Validation set')\n",
    "    plt.ylabel('RMSE')\n",
    "    plt.xlabel('epoch')\n",
    "    plt.show()\n",
    "    return theta,rms_arr[-1]"
   ]
  },
  {
   "cell_type": "code",
   "execution_count": null,
   "metadata": {
    "ExecuteTime": {
     "end_time": "2019-09-01T18:35:57.244953Z",
     "start_time": "2019-09-01T18:35:57.162810Z"
    }
   },
   "outputs": [],
   "source": [
    "def cost(x, y, theta):\n",
    "    y = np.reshape(y, (-1, 1))\n",
    "    arr = np.power(((x @ theta.T) - y), 2)\n",
    "    return math.sqrt( np.sum(arr) / float(len(x)))"
   ]
  },
  {
   "cell_type": "code",
   "execution_count": null,
   "metadata": {
    "ExecuteTime": {
     "end_time": "2019-09-01T18:35:57.335455Z",
     "start_time": "2019-09-01T18:35:57.256304Z"
    }
   },
   "outputs": [],
   "source": [
    "def cost_validation(x, y, theta):\n",
    "    y = np.reshape(y, (-1, 1))\n",
    "    arr1 = (x@ theta.T)-y\n",
    "    plt.plot(abs(arr1))\n",
    "    plt.show()\n",
    "    arr = np.power((arr1), 2)\n",
    "    return math.sqrt( np.sum(arr) / float(len(x)))"
   ]
  },
  {
   "cell_type": "code",
   "execution_count": null,
   "metadata": {
    "ExecuteTime": {
     "end_time": "2019-09-01T18:35:57.462747Z",
     "start_time": "2019-09-01T18:35:57.352002Z"
    }
   },
   "outputs": [],
   "source": [
    "#implementing 5-fold\n",
    "testing_x = []\n",
    "training_x = []\n",
    "testing_y = []\n",
    "training_y = []\n",
    "k = 5  # folds\n",
    "fold_size = int(len(x) / k)\n",
    "for i in range(k):\n",
    "    test_x = []\n",
    "    test_y = []\n",
    "    train_x = []\n",
    "    train_y = []\n",
    "    for j in range(len(x)):\n",
    "        if (j >= (i * fold_size) and j < ((i + 1) * fold_size)):\n",
    "            test_x.append(x[j])\n",
    "            test_y.append(y[j])\n",
    "        else:\n",
    "            train_x.append(x[j])\n",
    "            train_y.append(y[j])\n",
    "    testing_x.append(test_x)\n",
    "    testing_y.append(test_y)\n",
    "    training_x.append(train_x)\n",
    "    training_y.append(train_y)"
   ]
  },
  {
   "cell_type": "code",
   "execution_count": null,
   "metadata": {
    "ExecuteTime": {
     "end_time": "2019-09-01T18:35:57.587621Z",
     "start_time": "2019-09-01T18:35:57.471902Z"
    }
   },
   "outputs": [],
   "source": [
    "alpha = 0.1  # learning rate"
   ]
  },
  {
   "cell_type": "code",
   "execution_count": null,
   "metadata": {
    "ExecuteTime": {
     "end_time": "2019-09-01T18:38:00.005582Z",
     "start_time": "2019-09-01T18:36:53.325067Z"
    },
    "scrolled": false
   },
   "outputs": [],
   "source": [
    "min_cost = 1000000\n",
    "v = -1\n",
    "for i in range(5):  # change to 5\n",
    "    train_x = np.asarray(training_x[i])\n",
    "    test_x = np.asarray(testing_x[i])\n",
    "    train_y = np.asarray(training_y[i])\n",
    "    test_y = np.asarray(testing_y[i])\n",
    "    theta,rms_err = regression(train_x, train_y, alpha,test_x,test_y)\n",
    "    print('Parameter vector Regression =>')\n",
    "    print(theta.T)\n",
    "    print(rms_err, 'RMSE Training set Regression')\n",
    "    print(cost(test_x, test_y, theta), 'RMSE Testing set Regression')\n",
    "    #normal equation\n",
    "    theta1 = ((np.linalg.inv(train_x.T @ train_x))@(train_x.T @ train_y)).T\n",
    "    print('Parameter vector Normal eqn =>')\n",
    "    print(theta1.T)\n",
    "    print(cost(train_x,train_y,theta1),'RMSE Training set Normal Eqn')\n",
    "    cost_train = cost(test_x,test_y,theta1)\n",
    "    if (cost_train<min_cost):\n",
    "        min_cost = cost_train\n",
    "        v = i\n",
    "    print((cost_train),'RMSE Testing set Normal Eqn')\n",
    "    print('-------------------------------------------')\n"
   ]
  },
  {
   "cell_type": "code",
   "execution_count": null,
   "metadata": {
    "ExecuteTime": {
     "end_time": "2019-09-01T18:35:57.699503Z",
     "start_time": "2019-09-01T18:35:56.574Z"
    }
   },
   "outputs": [],
   "source": [
    "min_RMSE_test_x = np.asarray(testing_x[i])\n",
    "min_RMSE_train_x = np.asarray(training_x[i])\n",
    "min_RMSE_test_y = np.asarray(testing_y[i])\n",
    "min_RMSE_train_y = np.asarray(training_y[i])"
   ]
  }
 ],
 "metadata": {
  "kernelspec": {
   "display_name": "Python 3",
   "language": "python",
   "name": "python3"
  },
  "language_info": {
   "codemirror_mode": {
    "name": "ipython",
    "version": 3
   },
   "file_extension": ".py",
   "mimetype": "text/x-python",
   "name": "python",
   "nbconvert_exporter": "python",
   "pygments_lexer": "ipython3",
   "version": "3.7.3"
  },
  "varInspector": {
   "cols": {
    "lenName": 16,
    "lenType": 16,
    "lenVar": 40
   },
   "kernels_config": {
    "python": {
     "delete_cmd_postfix": "",
     "delete_cmd_prefix": "del ",
     "library": "var_list.py",
     "varRefreshCmd": "print(var_dic_list())"
    },
    "r": {
     "delete_cmd_postfix": ") ",
     "delete_cmd_prefix": "rm(",
     "library": "var_list.r",
     "varRefreshCmd": "cat(var_dic_list()) "
    }
   },
   "oldHeight": 122,
   "position": {
    "height": "40px",
    "left": "1582px",
    "right": "20px",
    "top": "120px",
    "width": "250px"
   },
   "types_to_exclude": [
    "module",
    "function",
    "builtin_function_or_method",
    "instance",
    "_Feature"
   ],
   "varInspector_section_display": "none",
   "window_display": false
  }
 },
 "nbformat": 4,
 "nbformat_minor": 2
}
